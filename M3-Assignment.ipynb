{
 "cells": [
  {
   "cell_type": "code",
   "execution_count": 1,
   "metadata": {
    "collapsed": true
   },
   "outputs": [],
   "source": [
    "%matplotlib inline\n",
    "import numpy\n",
    "from matplotlib import pyplot\n",
    "from matplotlib import rcParams\n",
    "rcParams['font.family'] = 'serif'\n",
    "rcParams['font.size'] = 16"
   ]
  },
  {
   "cell_type": "code",
   "execution_count": 6,
   "metadata": {
    "collapsed": false
   },
   "outputs": [],
   "source": [
    "#Initial conditions\n",
    "\n",
    "nx = 81\n",
    "dx=0.25\n",
    "dt = 0.002\n",
    "gamma = 1.4\n",
    "xmin = -10\n",
    "xmax =10 \n",
    "x = numpy.linspace(xmin,xmax,nx)\n",
    "\n",
    "nt = 0.01/dt + 1"
   ]
  },
  {
   "cell_type": "code",
   "execution_count": 7,
   "metadata": {
    "collapsed": false
   },
   "outputs": [
    {
     "name": "stdout",
     "output_type": "stream",
     "text": [
      "81\n"
     ]
    }
   ],
   "source": [
    "print(len(x))"
   ]
  },
  {
   "cell_type": "code",
   "execution_count": null,
   "metadata": {
    "collapsed": true
   },
   "outputs": [],
   "source": [
    "rho_L0 = 1 #kg/m^3\n",
    "u_L0 = 0 #m/s\n",
    "p_L0 = 100000 #N/m^2\n",
    "\n",
    "rho_R0 = 0.125 #kg/m^3\n",
    "u_R0 = 0 #m/s\n",
    "p_R0 = 10000 #N/m^2\n",
    "\n",
    "rho = numpy.zeros(nx)\n",
    "u = numpy.zeros(nx)\n",
    "p = numpy.zeros(nx)\n",
    "for i in range(nx):\n",
    "    if x[i]<0:\n",
    "        rho[i] = rho_L0\n",
    "        u[i]   = u_L0\n",
    "        p[i]   = p_L0\n",
    "            \n",
    "    else:\n",
    "        rho[i] = rho_R0\n",
    "        u[i]   = u_R0\n",
    "        p[i]   = p_R0"
   ]
  }
 ],
 "metadata": {
  "kernelspec": {
   "display_name": "Python [default]",
   "language": "python",
   "name": "python3"
  },
  "language_info": {
   "codemirror_mode": {
    "name": "ipython",
    "version": 3
   },
   "file_extension": ".py",
   "mimetype": "text/x-python",
   "name": "python",
   "nbconvert_exporter": "python",
   "pygments_lexer": "ipython3",
   "version": "3.5.2"
  }
 },
 "nbformat": 4,
 "nbformat_minor": 1
}
