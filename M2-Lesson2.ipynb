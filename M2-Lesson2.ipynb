{
 "cells": [
  {
   "cell_type": "code",
   "execution_count": 2,
   "metadata": {
    "collapsed": false
   },
   "outputs": [],
   "source": [
    "import numpy\n",
    "from matplotlib import pyplot\n",
    "%matplotlib inline"
   ]
  },
  {
   "cell_type": "code",
   "execution_count": 5,
   "metadata": {
    "collapsed": false
   },
   "outputs": [],
   "source": [
    "def linearconv(nx):\n",
    "    \n",
    "    dx = 2/(nx-1)\n",
    "    nt=20\n",
    "    dt = 0.025\n",
    "    c=1\n",
    "    \n",
    "    x=numpy.linspace(0,2,nx)\n",
    "    \n",
    "    u = numpy.ones(nx)\n",
    "    lbound= numpy.where(x >= 0.5)\n",
    "    ubound = numpy.where(x <= 1)\n",
    "    u[numpy.intersect1d(lbound,ubound)]=2\n",
    "    \n",
    "    un = numpy.ones(nx)\n",
    "    \n",
    "    for n in range(nt):\n",
    "        un = u.copy()\n",
    "        u[1:] = un[1:]-c*dt/dx*(un[1:]-un[0:-1])\n",
    "        u[0]=1.0\n",
    "\n",
    "    pyplot.plot(x,u,color='r',ls ='--',lw=3)\n",
    "    pyplot.ylim(0,2.5);"
   ]
  },
  {
   "cell_type": "code",
   "execution_count": null,
   "metadata": {
    "collapsed": true
   },
   "outputs": [],
   "source": []
  }
 ],
 "metadata": {
  "kernelspec": {
   "display_name": "Python [default]",
   "language": "python",
   "name": "python3"
  },
  "language_info": {
   "codemirror_mode": {
    "name": "ipython",
    "version": 3
   },
   "file_extension": ".py",
   "mimetype": "text/x-python",
   "name": "python",
   "nbconvert_exporter": "python",
   "pygments_lexer": "ipython3",
   "version": "3.5.2"
  }
 },
 "nbformat": 4,
 "nbformat_minor": 1
}
