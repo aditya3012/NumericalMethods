{
 "cells": [
  {
   "cell_type": "code",
   "execution_count": 1,
   "metadata": {
    "collapsed": true
   },
   "outputs": [],
   "source": [
    "import numpy\n",
    "import sympy\n",
    "from matplotlib import pyplot\n",
    "%matplotlib inline"
   ]
  },
  {
   "cell_type": "markdown",
   "metadata": {
    "collapsed": false
   },
   "source": [
    "## Traffic flux"
   ]
  },
  {
   "cell_type": "code",
   "execution_count": 2,
   "metadata": {
    "collapsed": true
   },
   "outputs": [],
   "source": [
    "#variable\n",
    "vmax = 80 #km/hr\n",
    "rhomax = 250 #cars/km\n",
    "L = 11 #km\n",
    "nx = 51\n",
    "nt= 100\n",
    "dx = L/(nx-1)\n",
    "dt =0.001"
   ]
  },
  {
   "cell_type": "code",
   "execution_count": 3,
   "metadata": {
    "collapsed": false
   },
   "outputs": [
    {
     "name": "stdout",
     "output_type": "stream",
     "text": [
      "Minimum velcoity at time t=0 in meters per second is 17.78\n"
     ]
    },
    {
     "data": {
      "image/png": "[encoded data removed]",
      "text/plain": [
       "<matplotlib.figure.Figure at 0x7f88816ab320>"
      ]
     },
     "metadata": {},
     "output_type": "display_data"
    }
   ],
   "source": [
    "#Initial conditions\n",
    "x = numpy.linspace(0,L,nx)\n",
    "rho0 = numpy.ones(nx)*10\n",
    "rho0[10:20] = 50\n",
    "\n",
    "v = (vmax*(1- rho0/rhomax))\n",
    "vmin = min(v)*(5/18)\n",
    "print('Minimum velcoity at time t=0 in meters per second is %.2f' %vmin)\n",
    "\n",
    "pyplot.plot(x,rho0)\n",
    "pyplot.ylim(0,60);"
   ]
  },
  {
   "cell_type": "code",
   "execution_count": 4,
   "metadata": {
    "collapsed": false
   },
   "outputs": [
    {
     "name": "stdout",
     "output_type": "stream",
     "text": [
      "rho= [ 10.  10.  10.  10.  10.  10.  10.  10.  10.  10.  50.  50.  50.  50.  50.\n",
      "  50.  50.  50.  50.  50.  10.  10.  10.  10.  10.  10.  10.  10.  10.  10.\n",
      "  10.  10.  10.  10.  10.  10.  10.  10.  10.  10.  10.  10.  10.  10.  10.\n",
      "  10.  10.  10.  10.  10.  10.]\n"
     ]
    }
   ],
   "source": [
    "rho = rho0\n",
    "print('rho=',rho)\n",
    "#Fprime = -16*rho/25 + 80;\n",
    "rhon = numpy.ones(nx)\n",
    "t = 0"
   ]
  },
  {
   "cell_type": "code",
   "execution_count": 5,
   "metadata": {
    "collapsed": false
   },
   "outputs": [
    {
     "name": "stdout",
     "output_type": "stream",
     "text": [
      "0.06\n",
      "0.12\n",
      "0.18\n",
      "0.24\n",
      "0.3\n",
      "0.36\n",
      "0.42\n",
      "0.48\n",
      "0.54\n",
      "0.6000000000000001\n",
      "0.6600000000000001\n",
      "0.7200000000000002\n",
      "0.7800000000000002\n",
      "0.8400000000000003\n",
      "0.9000000000000004\n",
      "0.9600000000000004\n",
      "1.0200000000000005\n",
      "1.0800000000000005\n",
      "1.1400000000000006\n",
      "1.2000000000000006\n",
      "1.2600000000000007\n",
      "1.3200000000000007\n",
      "1.3800000000000008\n",
      "1.4400000000000008\n",
      "1.5000000000000009\n",
      "1.560000000000001\n",
      "1.620000000000001\n",
      "1.680000000000001\n",
      "1.740000000000001\n",
      "1.8000000000000012\n",
      "1.8600000000000012\n",
      "1.9200000000000013\n",
      "1.9800000000000013\n",
      "2.0400000000000014\n",
      "2.1000000000000014\n",
      "2.1600000000000015\n",
      "2.2200000000000015\n",
      "2.2800000000000016\n",
      "2.3400000000000016\n",
      "2.4000000000000017\n",
      "2.4600000000000017\n",
      "2.520000000000002\n",
      "2.580000000000002\n",
      "2.640000000000002\n",
      "2.700000000000002\n",
      "2.760000000000002\n",
      "2.820000000000002\n",
      "2.880000000000002\n",
      "2.940000000000002\n",
      "3.000000000000002\n",
      "3.0600000000000023\n",
      "3.1200000000000023\n",
      "3.1800000000000024\n",
      "3.2400000000000024\n",
      "3.3000000000000025\n",
      "3.3600000000000025\n",
      "3.4200000000000026\n",
      "3.4800000000000026\n",
      "3.5400000000000027\n",
      "3.6000000000000028\n",
      "3.660000000000003\n",
      "3.720000000000003\n",
      "3.7800000000000025\n",
      "3.8400000000000025\n",
      "3.9000000000000026\n",
      "3.9600000000000026\n",
      "4.020000000000003\n",
      "4.080000000000003\n",
      "4.140000000000003\n",
      "4.200000000000003\n",
      "4.260000000000003\n",
      "4.320000000000003\n",
      "4.3800000000000034\n",
      "4.440000000000003\n",
      "4.5000000000000036\n",
      "4.560000000000003\n",
      "4.620000000000004\n",
      "4.680000000000003\n",
      "4.740000000000004\n",
      "4.800000000000003\n",
      "4.860000000000004\n",
      "4.9200000000000035\n",
      "4.980000000000004\n",
      "5.040000000000004\n",
      "5.100000000000004\n",
      "5.160000000000004\n",
      "5.220000000000004\n",
      "5.280000000000004\n",
      "5.340000000000004\n",
      "5.400000000000004\n",
      "5.460000000000004\n",
      "5.520000000000004\n",
      "5.5800000000000045\n",
      "5.640000000000004\n",
      "5.700000000000005\n",
      "5.760000000000004\n",
      "5.820000000000005\n",
      "5.880000000000004\n",
      "5.940000000000005\n",
      "6.000000000000004\n"
     ]
    }
   ],
   "source": [
    "for n in range(nt):\n",
    "    t = t + dt\n",
    "    print(t * 60)\n",
    "    rhon = rho.copy()\n",
    "    F = vmax*rho*(1-(rho/rhomax));\n",
    "    rho[1:] = rhon[1:]-(dt/dx)*(F[1:]-F[0:-1])\n",
    "    rho[0]=10"
   ]
  },
  {
   "cell_type": "code",
   "execution_count": 6,
   "metadata": {
    "collapsed": false
   },
   "outputs": [
    {
     "data": {
      "text/plain": [
       "[<matplotlib.lines.Line2D at 0x7f888189d240>]"
      ]
     },
     "execution_count": 6,
     "metadata": {},
     "output_type": "execute_result"
    },
    {
     "data": {
      "image/png": "[encoded data removed]",
      "text/plain": [
       "<matplotlib.figure.Figure at 0x7f888186b780>"
      ]
     },
     "metadata": {},
     "output_type": "display_data"
    }
   ],
   "source": [
    "pyplot.plot(x,rho)"
   ]
  },
  {
   "cell_type": "code",
   "execution_count": 7,
   "metadata": {
    "collapsed": false
   },
   "outputs": [],
   "source": [
    "V= (vmax*(1- rho/rhomax))\n",
    "vminat6 = min(V)"
   ]
  },
  {
   "cell_type": "code",
   "execution_count": 8,
   "metadata": {
    "collapsed": false
   },
   "outputs": [
    {
     "name": "stdout",
     "output_type": "stream",
     "text": [
      "18.7847168709\n"
     ]
    }
   ],
   "source": [
    "print((vminat6)*(1000/3600))"
   ]
  },
  {
   "cell_type": "code",
   "execution_count": null,
   "metadata": {
    "collapsed": false
   },
   "outputs": [],
   "source": []
  },
  {
   "cell_type": "code",
   "execution_count": null,
   "metadata": {
    "collapsed": true
   },
   "outputs": [],
   "source": []
  }
 ],
 "metadata": {
  "anaconda-cloud": {},
  "kernelspec": {
   "display_name": "Python [default]",
   "language": "python",
   "name": "python3"
  },
  "language_info": {
   "codemirror_mode": {
    "name": "ipython",
    "version": 3
   },
   "file_extension": ".py",
   "mimetype": "text/x-python",
   "name": "python",
   "nbconvert_exporter": "python",
   "pygments_lexer": "ipython3",
   "version": "3.5.2"
  }
 },
 "nbformat": 4,
 "nbformat_minor": 1
}
