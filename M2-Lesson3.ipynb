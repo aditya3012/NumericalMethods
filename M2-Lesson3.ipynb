{
 "cells": [
  {
   "cell_type": "code",
   "execution_count": 3,
   "metadata": {
    "collapsed": false
   },
   "outputs": [],
   "source": [
    "import numpy\n",
    "from matplotlib import pyplot\n",
    "%matplotlib inline"
   ]
  },
  {
   "cell_type": "code",
   "execution_count": 7,
   "metadata": {
    "collapsed": false
   },
   "outputs": [
    {
     "data": {
      "text/plain": [
       "[<matplotlib.lines.Line2D at 0x7ff309dc9a58>]"
      ]
     },
     "execution_count": 7,
     "metadata": {},
     "output_type": "execute_result"
    },
    {
     "data": {
      "image/png": "[encoded data removed]",
      "text/plain": [
       "<matplotlib.figure.Figure at 0x7ff3101ad550>"
      ]
     },
     "metadata": {},
     "output_type": "display_data"
    }
   ],
   "source": [
    "nx =41\n",
    "dx = 2./(nx-1)\n",
    "nt =20\n",
    "nu =0.3\n",
    "sigma = 0.2\n",
    "dt = sigma*dx**2/nu\n",
    "\n",
    "x = numpy.linspace(0,2,nx)\n",
    "ubound = numpy.where(x >=0.5)\n",
    "lbound = numpy.where(x <= 1)\n",
    "u = numpy.ones(nx)\n",
    "u[numpy.intersect1d(lbound,ubound)] = 2\n",
    "\n",
    "un = numpy.ones(nx)\n",
    "pyplot.plot(x,u)"
   ]
  },
  {
   "cell_type": "code",
   "execution_count": 9,
   "metadata": {
    "collapsed": false
   },
   "outputs": [
    {
     "data": {
      "text/plain": [
       "(0, 2.5)"
      ]
     },
     "execution_count": 9,
     "metadata": {},
     "output_type": "execute_result"
    },
    {
     "data": {
      "image/png": "[encoded data removed]",
      "text/plain": [
       "<matplotlib.figure.Figure at 0x7ff30bd66358>"
      ]
     },
     "metadata": {},
     "output_type": "display_data"
    }
   ],
   "source": [
    "for n in range(nt):\n",
    "    un = u.copy()\n",
    "    u[1:-1] = un[1:-1] +nu*dt/dx**2*(un[2:] -2*un[1:-1] +un[0:-2])\n",
    "    \n",
    "pyplot.plot(x,u,color='r')\n",
    "pyplot.ylim(0,2.5)"
   ]
  },
  {
   "cell_type": "code",
   "execution_count": null,
   "metadata": {
    "collapsed": true
   },
   "outputs": [],
   "source": []
  }
 ],
 "metadata": {
  "kernelspec": {
   "display_name": "Python [default]",
   "language": "python",
   "name": "python3"
  },
  "language_info": {
   "codemirror_mode": {
    "name": "ipython",
    "version": 3
   },
   "file_extension": ".py",
   "mimetype": "text/x-python",
   "name": "python",
   "nbconvert_exporter": "python",
   "pygments_lexer": "ipython3",
   "version": "3.5.2"
  }
 },
 "nbformat": 4,
 "nbformat_minor": 1
}
