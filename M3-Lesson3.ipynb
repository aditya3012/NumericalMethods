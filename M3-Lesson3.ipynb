{
 "cells": [
  {
   "cell_type": "code",
   "execution_count": 1,
   "metadata": {
    "collapsed": true
   },
   "outputs": [],
   "source": [
    "import sympy\n",
    "sympy.init_printing()\n",
    "(u_max,u_star,rho_max,\n",
    "rho_star,A,B) = sympy.symbols('u_max u_star rho_max rho_star A B')"
   ]
  },
  {
   "cell_type": "code",
   "execution_count": 2,
   "metadata": {
    "collapsed": true
   },
   "outputs": [],
   "source": [
    "eq1 = sympy.Eq(0,u_max*rho_max*(1-A*rho_max-B*rho_max**2))\n",
    "eq2 = sympy.Eq(0,u_max*(1-2*A*rho_star-3*B*rho_star**2))\n",
    "eq3 = sympy.Eq(u_star,u_max*(1-A*rho_star-B*rho_star**2))"
   ]
  },
  {
   "cell_type": "code",
   "execution_count": 3,
   "metadata": {
    "collapsed": false
   },
   "outputs": [
    {
     "data": {
      "image/png": "[encoded data removed]",
      "text/latex": [
       "$$0 = \\rho_{max} u_{max} \\left(- A \\rho_{max} - B \\rho_{max}^{2} + 1\\right)$$"
      ],
      "text/plain": [
       "              ⎛                2    ⎞\n",
       "0 = ρₘₐₓ⋅uₘₐₓ⋅⎝-A⋅ρₘₐₓ - B⋅ρₘₐₓ  + 1⎠"
      ]
     },
     "execution_count": 3,
     "metadata": {},
     "output_type": "execute_result"
    }
   ],
   "source": [
    "eq1"
   ]
  },
  {
   "cell_type": "code",
   "execution_count": 4,
   "metadata": {
    "collapsed": false
   },
   "outputs": [
    {
     "data": {
      "image/png": "[encoded data removed]",
      "text/latex": [
       "$$0 = u_{max} \\left(- 2 A \\rho_{star} - 3 B \\rho_{star}^{2} + 1\\right)$$"
      ],
      "text/plain": [
       "         ⎛                      2    ⎞\n",
       "0 = uₘₐₓ⋅⎝-2⋅A⋅ρₛₜₐᵣ - 3⋅B⋅ρₛₜₐᵣ  + 1⎠"
      ]
     },
     "execution_count": 4,
     "metadata": {},
     "output_type": "execute_result"
    }
   ],
   "source": [
    "eq2"
   ]
  },
  {
   "cell_type": "code",
   "execution_count": 5,
   "metadata": {
    "collapsed": false
   },
   "outputs": [
    {
     "data": {
      "image/png": "[encoded data removed]",
      "text/latex": [
       "$$u_{star} = u_{max} \\left(- A \\rho_{star} - B \\rho_{star}^{2} + 1\\right)$$"
      ],
      "text/plain": [
       "             ⎛                  2    ⎞\n",
       "uₛₜₐᵣ = uₘₐₓ⋅⎝-A⋅ρₛₜₐᵣ - B⋅ρₛₜₐᵣ  + 1⎠"
      ]
     },
     "execution_count": 5,
     "metadata": {},
     "output_type": "execute_result"
    }
   ],
   "source": [
    "eq3"
   ]
  },
  {
   "cell_type": "code",
   "execution_count": 6,
   "metadata": {
    "collapsed": false
   },
   "outputs": [
    {
     "data": {
      "image/png": "[encoded data removed]",
      "text/latex": [
       "$$\\left(0 = u_{max} \\left(- 2 A \\rho_{star} - 3 B \\rho_{star}^{2} + 1\\right)\\right) - 3 \\left(u_{star} = u_{max} \\left(- A \\rho_{star} - B \\rho_{star}^{2} + 1\\right)\\right)$$"
      ],
      "text/plain": [
       "⎛         ⎛                      2    ⎞⎞     ⎛             ⎛                  \n",
       "⎝0 = uₘₐₓ⋅⎝-2⋅A⋅ρₛₜₐᵣ - 3⋅B⋅ρₛₜₐᵣ  + 1⎠⎠ - 3⋅⎝uₛₜₐᵣ = uₘₐₓ⋅⎝-A⋅ρₛₜₐᵣ - B⋅ρₛₜₐᵣ\n",
       "\n",
       "2    ⎞⎞\n",
       "  + 1⎠⎠"
      ]
     },
     "execution_count": 6,
     "metadata": {},
     "output_type": "execute_result"
    }
   ],
   "source": [
    "eq2- 3*eq3"
   ]
  },
  {
   "cell_type": "code",
   "execution_count": 7,
   "metadata": {
    "collapsed": false
   },
   "outputs": [
    {
     "data": {
      "image/png": "[encoded data removed]",
      "text/latex": [
       "$$- 3 u_{star} = u_{max} \\left(- 2 A \\rho_{star} - 3 B \\rho_{star}^{2} + 1\\right) - 3 u_{max} \\left(- A \\rho_{star} - B \\rho_{star}^{2} + 1\\right)$$"
      ],
      "text/plain": [
       "                ⎛                      2    ⎞          ⎛                  2   \n",
       "-3⋅uₛₜₐᵣ = uₘₐₓ⋅⎝-2⋅A⋅ρₛₜₐᵣ - 3⋅B⋅ρₛₜₐᵣ  + 1⎠ - 3⋅uₘₐₓ⋅⎝-A⋅ρₛₜₐᵣ - B⋅ρₛₜₐᵣ  + \n",
       "\n",
       " ⎞\n",
       "1⎠"
      ]
     },
     "execution_count": 7,
     "metadata": {},
     "output_type": "execute_result"
    }
   ],
   "source": [
    "eq4 = sympy.Eq(eq2.lhs-3*eq3.lhs,eq2.rhs-3*eq3.rhs)\n",
    "eq4"
   ]
  },
  {
   "cell_type": "code",
   "execution_count": 8,
   "metadata": {
    "collapsed": false
   },
   "outputs": [
    {
     "data": {
      "image/png": "[encoded data removed]",
      "text/latex": [
       "$$3 u_{star} = - u_{max} \\left(A \\rho_{star} - 2\\right)$$"
      ],
      "text/plain": [
       "3⋅uₛₜₐᵣ = -uₘₐₓ⋅(A⋅ρₛₜₐᵣ - 2)"
      ]
     },
     "execution_count": 8,
     "metadata": {},
     "output_type": "execute_result"
    }
   ],
   "source": [
    "eq4.simplify()"
   ]
  },
  {
   "cell_type": "code",
   "execution_count": 9,
   "metadata": {
    "collapsed": false
   },
   "outputs": [
    {
     "data": {
      "image/png": "[encoded data removed]",
      "text/latex": [
       "$$- 3 u_{star} = u_{max} \\left(- 2 A \\rho_{star} - 3 B \\rho_{star}^{2} + 1\\right) - 3 u_{max} \\left(- A \\rho_{star} - B \\rho_{star}^{2} + 1\\right)$$"
      ],
      "text/plain": [
       "                ⎛                      2    ⎞          ⎛                  2   \n",
       "-3⋅uₛₜₐᵣ = uₘₐₓ⋅⎝-2⋅A⋅ρₛₜₐᵣ - 3⋅B⋅ρₛₜₐᵣ  + 1⎠ - 3⋅uₘₐₓ⋅⎝-A⋅ρₛₜₐᵣ - B⋅ρₛₜₐᵣ  + \n",
       "\n",
       " ⎞\n",
       "1⎠"
      ]
     },
     "execution_count": 9,
     "metadata": {},
     "output_type": "execute_result"
    }
   ],
   "source": [
    "eq4"
   ]
  },
  {
   "cell_type": "code",
   "execution_count": 10,
   "metadata": {
    "collapsed": false
   },
   "outputs": [
    {
     "data": {
      "image/png": "[encoded data removed]",
      "text/latex": [
       "$$- 3 u_{star} = A \\rho_{star} u_{max} - 2 u_{max}$$"
      ],
      "text/plain": [
       "-3⋅uₛₜₐᵣ = A⋅ρₛₜₐᵣ⋅uₘₐₓ - 2⋅uₘₐₓ"
      ]
     },
     "execution_count": 10,
     "metadata": {},
     "output_type": "execute_result"
    }
   ],
   "source": [
    "eq4.expand()"
   ]
  },
  {
   "cell_type": "code",
   "execution_count": 11,
   "metadata": {
    "collapsed": false
   },
   "outputs": [
    {
     "data": {
      "image/png": "[encoded data removed]",
      "text/latex": [
       "$$\\frac{1}{A u_{max}} \\left(2 u_{max} - 3 u_{star}\\right)$$"
      ],
      "text/plain": [
       "2⋅uₘₐₓ - 3⋅uₛₜₐᵣ\n",
       "────────────────\n",
       "     A⋅uₘₐₓ     "
      ]
     },
     "execution_count": 11,
     "metadata": {},
     "output_type": "execute_result"
    }
   ],
   "source": [
    "rho_sol = sympy.solve(eq4,rho_star)[0]\n",
    "rho_sol"
   ]
  },
  {
   "cell_type": "code",
   "execution_count": 12,
   "metadata": {
    "collapsed": false
   },
   "outputs": [
    {
     "data": {
      "image/png": "[encoded data removed]",
      "text/latex": [
       "$$\\frac{1}{\\rho_{max}^{2}} \\left(- A \\rho_{max} + 1\\right)$$"
      ],
      "text/plain": [
       "-A⋅ρₘₐₓ + 1\n",
       "───────────\n",
       "       2   \n",
       "   ρₘₐₓ    "
      ]
     },
     "execution_count": 12,
     "metadata": {},
     "output_type": "execute_result"
    }
   ],
   "source": [
    "B_sol = sympy.solve(eq1,B)[0]\n",
    "B_sol"
   ]
  },
  {
   "cell_type": "code",
   "execution_count": 13,
   "metadata": {
    "collapsed": false
   },
   "outputs": [
    {
     "data": {
      "image/png": "[encoded data removed]",
      "text/latex": [
       "$$0 = u_{max} \\left(1 - \\frac{1}{u_{max}} \\left(4 u_{max} - 6 u_{star}\\right) - \\frac{3 \\left(2 u_{max} - 3 u_{star}\\right)^{2}}{A^{2} \\rho_{max}^{2} u_{max}^{2}} \\left(- A \\rho_{max} + 1\\right)\\right)$$"
      ],
      "text/plain": [
       "         ⎛                                               2              ⎞\n",
       "         ⎜    2⋅(2⋅uₘₐₓ - 3⋅uₛₜₐᵣ)   3⋅(2⋅uₘₐₓ - 3⋅uₛₜₐᵣ) ⋅(-A⋅ρₘₐₓ + 1)⎟\n",
       "0 = uₘₐₓ⋅⎜1 - ──────────────────── - ───────────────────────────────────⎟\n",
       "         ⎜            uₘₐₓ                       2     2     2          ⎟\n",
       "         ⎝                                      A ⋅ρₘₐₓ ⋅uₘₐₓ           ⎠"
      ]
     },
     "execution_count": 13,
     "metadata": {},
     "output_type": "execute_result"
    }
   ],
   "source": [
    "quadA = eq2.subs([(rho_star,rho_sol),(B,B_sol)])\n",
    "quadA"
   ]
  },
  {
   "cell_type": "code",
   "execution_count": 14,
   "metadata": {
    "collapsed": false
   },
   "outputs": [
    {
     "data": {
      "image/png": "[encoded data removed]",
      "text/latex": [
       "$$- 3 u_{max} + 6 u_{star} + \\frac{3 \\left(2 u_{max} - 3 u_{star}\\right)^{2}}{A \\rho_{max} u_{max}} - \\frac{3 \\left(2 u_{max} - 3 u_{star}\\right)^{2}}{A^{2} \\rho_{max}^{2} u_{max}} = 0$$"
      ],
      "text/plain": [
       "                                        2                       2    \n",
       "                    3⋅(2⋅uₘₐₓ - 3⋅uₛₜₐᵣ)    3⋅(2⋅uₘₐₓ - 3⋅uₛₜₐᵣ)     \n",
       "-3⋅uₘₐₓ + 6⋅uₛₜₐᵣ + ───────────────────── - ───────────────────── = 0\n",
       "                         A⋅ρₘₐₓ⋅uₘₐₓ             2     2             \n",
       "                                                A ⋅ρₘₐₓ ⋅uₘₐₓ        "
      ]
     },
     "execution_count": 14,
     "metadata": {},
     "output_type": "execute_result"
    }
   ],
   "source": [
    "quadA.simplify()"
   ]
  },
  {
   "cell_type": "code",
   "execution_count": 15,
   "metadata": {
    "collapsed": true
   },
   "outputs": [],
   "source": [
    "A_sol = sympy.solve(quadA, A)"
   ]
  },
  {
   "cell_type": "code",
   "execution_count": 16,
   "metadata": {
    "collapsed": false
   },
   "outputs": [
    {
     "data": {
      "image/png": "[encoded data removed]",
      "text/latex": [
       "$$\\frac{1}{2 \\rho_{max} u_{max} \\left(u_{max} - 2 u_{star}\\right)} \\left(\\sqrt{- u_{star} \\left(4 u_{max} - 9 u_{star}\\right)} \\left(- 2 u_{max} + 3 u_{star}\\right) + \\left(2 u_{max} - 3 u_{star}\\right)^{2}\\right)$$"
      ],
      "text/plain": [
       "  ___________________________                                         2\n",
       "╲╱ -uₛₜₐᵣ⋅(4⋅uₘₐₓ - 9⋅uₛₜₐᵣ) ⋅(-2⋅uₘₐₓ + 3⋅uₛₜₐᵣ) + (2⋅uₘₐₓ - 3⋅uₛₜₐᵣ) \n",
       "───────────────────────────────────────────────────────────────────────\n",
       "                      2⋅ρₘₐₓ⋅uₘₐₓ⋅(uₘₐₓ - 2⋅uₛₜₐᵣ)                     "
      ]
     },
     "execution_count": 16,
     "metadata": {},
     "output_type": "execute_result"
    }
   ],
   "source": [
    "A_sol[0]"
   ]
  },
  {
   "cell_type": "code",
   "execution_count": 17,
   "metadata": {
    "collapsed": false
   },
   "outputs": [
    {
     "data": {
      "image/png": "[encoded data removed]",
      "text/latex": [
       "$$\\frac{1}{2 \\rho_{max} u_{max} \\left(u_{max} - 2 u_{star}\\right)} \\left(2 u_{max} - 3 u_{star}\\right) \\left(2 u_{max} - 3 u_{star} + \\sqrt{- u_{star} \\left(4 u_{max} - 9 u_{star}\\right)}\\right)$$"
      ],
      "text/plain": [
       "                   ⎛                     ___________________________⎞\n",
       "(2⋅uₘₐₓ - 3⋅uₛₜₐᵣ)⋅⎝2⋅uₘₐₓ - 3⋅uₛₜₐᵣ + ╲╱ -uₛₜₐᵣ⋅(4⋅uₘₐₓ - 9⋅uₛₜₐᵣ) ⎠\n",
       "─────────────────────────────────────────────────────────────────────\n",
       "                     2⋅ρₘₐₓ⋅uₘₐₓ⋅(uₘₐₓ - 2⋅uₛₜₐᵣ)                    "
      ]
     },
     "execution_count": 17,
     "metadata": {},
     "output_type": "execute_result"
    }
   ],
   "source": [
    "A_sol[1]"
   ]
  },
  {
   "cell_type": "code",
   "execution_count": 18,
   "metadata": {
    "collapsed": false
   },
   "outputs": [
    {
     "data": {
      "image/png": "[encoded data removed]",
      "text/latex": [
       "$$-0.0281023443605751$$"
      ],
      "text/plain": [
       "-0.0281023443605751"
      ]
     },
     "execution_count": 18,
     "metadata": {},
     "output_type": "execute_result"
    }
   ],
   "source": [
    "aval_a =A_sol[0].evalf(subs={u_star:1.5,u_max:2.0,rho_max:15.0})\n",
    "aval_a"
   ]
  },
  {
   "cell_type": "code",
   "execution_count": 19,
   "metadata": {
    "collapsed": false
   },
   "outputs": [
    {
     "data": {
      "image/png": "[encoded data removed]",
      "text/latex": [
       "$$0.0197690110272418$$"
      ],
      "text/plain": [
       "0.0197690110272418"
      ]
     },
     "execution_count": 19,
     "metadata": {},
     "output_type": "execute_result"
    }
   ],
   "source": [
    "aval_b =A_sol[1].evalf(subs={u_star:1.5,u_max:2.0,rho_max:15.0})\n",
    "aval_b"
   ]
  },
  {
   "cell_type": "code",
   "execution_count": 20,
   "metadata": {
    "collapsed": false
   },
   "outputs": [],
   "source": [
    "if aval_a>aval_b:\n",
    "    aval = aval_a\n",
    "else:\n",
    "    aval = aval_b"
   ]
  },
  {
   "cell_type": "code",
   "execution_count": 21,
   "metadata": {
    "collapsed": false
   },
   "outputs": [
    {
     "data": {
      "image/png": "[encoded data removed]",
      "text/latex": [
       "$$0.0197690110272418$$"
      ],
      "text/plain": [
       "0.0197690110272418"
      ]
     },
     "execution_count": 21,
     "metadata": {},
     "output_type": "execute_result"
    }
   ],
   "source": [
    "aval"
   ]
  },
  {
   "cell_type": "code",
   "execution_count": 22,
   "metadata": {
    "collapsed": false
   },
   "outputs": [
    {
     "data": {
      "image/png": "[encoded data removed]",
      "text/latex": [
       "$$0.00312651037596166$$"
      ],
      "text/plain": [
       "0.00312651037596166"
      ]
     },
     "execution_count": 22,
     "metadata": {},
     "output_type": "execute_result"
    }
   ],
   "source": [
    "bval = B_sol.evalf(subs={rho_max:15.0,A:aval})\n",
    "bval"
   ]
  },
  {
   "cell_type": "code",
   "execution_count": 23,
   "metadata": {
    "collapsed": true
   },
   "outputs": [],
   "source": [
    "sympy.init_printing(use_latex=False)"
   ]
  },
  {
   "cell_type": "code",
   "execution_count": 24,
   "metadata": {
    "collapsed": false
   },
   "outputs": [
    {
     "name": "stdout",
     "output_type": "stream",
     "text": [
      "<class 'sympy.core.symbol.Symbol'> <class 'sympy.core.symbol.Symbol'>\n"
     ]
    }
   ],
   "source": [
    "print(type(rho_max),type(u_max))"
   ]
  },
  {
   "cell_type": "code",
   "execution_count": 25,
   "metadata": {
    "collapsed": true
   },
   "outputs": [],
   "source": [
    "rho_max =15\n",
    "u_max =2"
   ]
  },
  {
   "cell_type": "code",
   "execution_count": 26,
   "metadata": {
    "collapsed": true
   },
   "outputs": [],
   "source": [
    "def computeF(u_max,rho,aval,bval):\n",
    "    return u_max*rho*(1-aval*rho-bval*rho**2)"
   ]
  },
  {
   "cell_type": "code",
   "execution_count": 27,
   "metadata": {
    "collapsed": false
   },
   "outputs": [],
   "source": [
    "import numpy\n",
    "from matplotlib import pyplot\n",
    "%matplotlib inline\n",
    "from matplotlib import rcParams\n",
    "rcParams['font.family'] = 'serif'\n",
    "rcParams['font.size'] = 16"
   ]
  },
  {
   "cell_type": "code",
   "execution_count": 28,
   "metadata": {
    "collapsed": true
   },
   "outputs": [],
   "source": [
    "def rho_green_light(nx, rho_light):\n",
    "\n",
    "    rho_initial = numpy.arange(nx)*2./nx*rho_light  # Before stoplight\n",
    "    rho_initial[int((nx-1)/2):] = 0\n",
    "    \n",
    "    return rho_initial"
   ]
  },
  {
   "cell_type": "code",
   "execution_count": 29,
   "metadata": {
    "collapsed": true
   },
   "outputs": [],
   "source": [
    "nx = 81\n",
    "nt = 30\n",
    "dx = 4.0/(nx-1)\n",
    "\n",
    "x = numpy.linspace(0,4,nx)\n",
    "\n",
    "rho_light = 5.5"
   ]
  },
  {
   "cell_type": "code",
   "execution_count": 30,
   "metadata": {
    "collapsed": true
   },
   "outputs": [],
   "source": [
    "rho_initial = rho_green_light(nx, rho_light)"
   ]
  },
  {
   "cell_type": "code",
   "execution_count": 31,
   "metadata": {
    "collapsed": false
   },
   "outputs": [
    {
     "data": {
      "image/png": "[encoded data removed]",
      "text/plain": [
       "<matplotlib.figure.Figure at 0x7f2ee25962e8>"
      ]
     },
     "metadata": {},
     "output_type": "display_data"
    }
   ],
   "source": [
    "pyplot.plot(x, rho_initial, color='#003366', ls='-', lw=3)\n",
    "pyplot.ylim(-0.5,11.);"
   ]
  },
  {
   "cell_type": "code",
   "execution_count": 32,
   "metadata": {
    "collapsed": true
   },
   "outputs": [],
   "source": [
    "def ftbs(rho, nt, dt, dx, rho_max, u_max):\n",
    "    \"\"\" Computes the solution with forward in time, backward in space\n",
    "    \n",
    "    Parameters\n",
    "    ----------\n",
    "    rho    : array of floats\n",
    "            Density at current time-step\n",
    "    nt     : int\n",
    "            Number of time steps\n",
    "    dt     : float\n",
    "            Time-step size\n",
    "    dx     : float\n",
    "            Mesh spacing\n",
    "    rho_max: float\n",
    "            Maximum allowed car density\n",
    "    u_max  : float\n",
    "            Speed limit\n",
    "    \n",
    "    Returns\n",
    "    -------\n",
    "    rho_n : array of floats\n",
    "            Density after nt time steps at every point x\n",
    "    \"\"\"\n",
    "    \n",
    "    #initialize our results array with dimensions nt by nx\n",
    "    rho_n = numpy.zeros((nt,len(rho))) \n",
    "    \n",
    "    #copy the initial u array into each row of our new array\n",
    "    rho_n[0,:] = rho.copy()              \n",
    "    \n",
    "    for t in range(1,nt):\n",
    "        F = computeF(u_max, rho, aval, bval)\n",
    "        rho_n[t,1:] = rho[1:] - dt/dx*(F[1:]-F[:-1])\n",
    "        rho_n[t,0] = rho[0]\n",
    "        rho_n[t,-1] = rho[-1]\n",
    "        rho = rho_n[t].copy()\n",
    "\n",
    "    return rho_n"
   ]
  },
  {
   "cell_type": "code",
   "execution_count": 33,
   "metadata": {
    "collapsed": false
   },
   "outputs": [],
   "source": [
    "sigma = 1.\n",
    "dt = sigma*dx/u_max\n",
    "\n",
    "rho_n = ftbs(rho_initial, nt, dt, dx, rho_max, u_max)"
   ]
  },
  {
   "cell_type": "code",
   "execution_count": 34,
   "metadata": {
    "collapsed": true
   },
   "outputs": [],
   "source": [
    "from matplotlib import animation\n",
    "from IPython.display import HTML"
   ]
  },
  {
   "cell_type": "code",
   "execution_count": 35,
   "metadata": {
    "collapsed": false
   },
   "outputs": [
    {
     "data": {
      "image/png": "[encoded data removed]",
      "text/plain": [
       "<matplotlib.figure.Figure at 0x7f2f078bd668>"
      ]
     },
     "metadata": {},
     "output_type": "display_data"
    }
   ],
   "source": [
    "fig = pyplot.figure();\n",
    "ax = pyplot.axes(xlim=(0,4),ylim=(-1,8),xlabel=('Distance'),ylabel=('Traffic density'));\n",
    "line, = ax.plot([],[],color='#003366', lw=2);\n",
    "\n",
    "def animate(data):\n",
    "    x = numpy.linspace(0,4,nx)\n",
    "    y = data\n",
    "    line.set_data(x,y)\n",
    "    return line,\n",
    "\n",
    "anim = animation.FuncAnimation(fig, animate, frames=rho_n, interval=50)"
   ]
  },
  {
   "cell_type": "code",
   "execution_count": 36,
   "metadata": {
    "collapsed": false
   },
   "outputs": [
    {
     "data": {
      "text/html": [
       "<video width=\"432.0\" height=\"288.0\" controls autoplay loop>\n",
       "  <source type=\"video/mp4\" src=\"data:video/mp4;base64,AAAAHGZ0eXBNNFYgAAACAGlzb21pc28yYXZjMQAAAAhmcmVlAAA0/21kYXQAAAKuBgX//6rcRem9\n",
       "5tlIt5Ys2CDZI+7veDI2NCAtIGNvcmUgMTQ4IHIyNjQzIDVjNjU3MDQgLSBILjI2NC9NUEVHLTQg\n",
       "QVZDIGNvZGVjIC0gQ29weWxlZnQgMjAwMy0yMDE1IC0gaHR0cDovL3d3dy52aWRlb2xhbi5vcmcv\n",
       "eDI2NC5odG1sIC0gb3B0aW9uczogY2FiYWM9MSByZWY9MyBkZWJsb2NrPTE6MDowIGFuYWx5c2U9\n",
       "MHgzOjB4MTEzIG1lPWhleCBzdWJtZT03IHBzeT0xIHBzeV9yZD0xLjAwOjAuMDAgbWl4ZWRfcmVm\n",
       "PTEgbWVfcmFuZ2U9MTYgY2hyb21hX21lPTEgdHJlbGxpcz0xIDh4OGRjdD0xIGNxbT0wIGRlYWR6\n",
       "b25lPTIxLDExIGZhc3RfcHNraXA9MSBjaHJvbWFfcXBfb2Zmc2V0PS0yIHRocmVhZHM9OSBsb29r\n",
       "YWhlYWRfdGhyZWFkcz0xIHNsaWNlZF90aHJlYWRzPTAgbnI9MCBkZWNpbWF0ZT0xIGludGVybGFj\n",
       "ZWQ9MCBibHVyYXlfY29tcGF0PTAgY29uc3RyYWluZWRfaW50cmE9MCBiZnJhbWVzPTMgYl9weXJh\n",
       "bWlkPTIgYl9hZGFwdD0xIGJfYmlhcz0wIGRpcmVjdD0xIHdlaWdodGI9MSBvcGVuX2dvcD0wIHdl\n",
       "aWdodHA9MiBrZXlpbnQ9MjUwIGtleWludF9taW49MjAgc2NlbmVjdXQ9NDAgaW50cmFfcmVmcmVz\n",
       "aD0wIHJjX2xvb2thaGVhZD00MCByYz1jcmYgbWJ0cmVlPTEgY3JmPTIzLjAgcWNvbXA9MC42MCBx\n",
       "cG1pbj0wIHFwbWF4PTY5IHFwc3RlcD00IGlwX3JhdGlvPTEuNDAgYXE9MToxLjAwAIAAABdBZYiE\n",
       "ADf//vbw/gU2O5jQlxHN6J0zH78VuLo0N73OAAADAAA33SONum9hL4gEvcA9go26ugmDQqjIxe/F\n",
       "/78+Wq1elnGww/vfI1mVy+rXORGAwO/1b+2LmQeaQGVFbjVEbo4hC2JdjMT7OObQZwBXuCEPU/+b\n",
       "O6/f8dzsQA9g8WDBksQvI6Lce3MS/0AMBv57kEWp+SsZdOIJCMlbRNowywXRzcN6FT2Sz6hqXLfQ\n",
       "eZdIzqnOwbuypL4vvLN/6jOyDDRXR9yNrh9kJP5Z6ku/zXw9iIlbsQuRMTGRv82LViPjrFdOAphw\n",
       "ae9HjxBEwIC9jii1Xi1aMR6dzvmu4PX++78lp2n6mzqU1wGqShPhuySgYoYzV5h86q2R5hMB5fR0\n",
       "RaPjdMuynMRCevnRLX6rhVoJRsiIHhoTFfmUJd8mHjGVnWfKK07uKHNYVdzUIKJXhxQvdMqW9NBD\n",
       "4eErdkWwbJix88dFiu9hnQDpM7214vPDWfqpPM0uTyX602Self6vemUe0wUdl9COA4YDNB7Ph+vy\n",
       "27bZww6ONnv0IozcXIGQCa5xhajEnKK0hB+IgTimgkauZSU36LzYmegD+D7KLzf5tald8nyn0lEo\n",
       "N5gBx6bsVb40oO+tjL1TjVHNluJkgZfKTugv53SRy3cPeLdAQFudYQoOs7O1wI2VAZ5sURAbQxb3\n",
       "ldJMYFGuO6hr6iAA/jj/af5aqjfWgIXl1kOHfHDucWwZj1teitD4+0P3AgZwgJYAdKqRJrsqINHu\n",
       "XwNGcpkwO880uLyDMVMmu1sAFkif6rn5W4sjA33Gjbx9MM3bxyDubZGk4twKQ30UlvH9Ju8cVzkx\n",
       "M8k+22uiuETrqTkueASB9yPW/uLvG6grUXPaAAoosuqd1cAbfHjmmcE7aWGhP0U5u/HKA4FaHSKQ\n",
       "76fCYJCtDrmIg9OpdEjEFzED02esuqRZOO6qIuPa+6EF6Iawp/8x+Td7RymS14l4hM3gNYSqW9RY\n",
       "RjMyXhkmlsTNJj2Ot9ImZlHU3fGv//NgoBvKSwviR8ex1UdTdWuMjaxr0av08XZ2Z0DaBuFNZFLn\n",
       "+RZTaIHoz4M4MvWXgfrsZNovi4Rucbd3+iMhXYG12o1lnBufj6mg3CK0D/Nvy6G8rpAOaFiVXgHR\n",
       "oKlfW80OkXVqVLGilvtTNAXEhCLF1kCPvee6ceoqHr/+XMTo9IVFssfjiJrxLECihupDN87K8Dc3\n",
       "ciwkVP2JQ/rLEPPciI1nOLEauw1lKBHjOZ1VQxy+y4gNVF0giJ71+miC0nDLK9LGf/W4cHlChsft\n",
       "luxW0ahIH/rosHXNdQkvQwaLLpBPvs2C1CQI71vagfqMpuaRu+5sHQ3EHZgMeb4vQjYsBf6PuHrp\n",
       "KnYle0FIxKtcCoJgwEx6UvwSInNZpQwdg++43K50rZCAKP5ZL0PTDhQvSLjVV5trJJH5m4svtfSo\n",
       "aT804f4vkt/Yw+uQINVUi1o6RQ/vAhrlccpp7xUAVB8Iohu6LQRQ7I43wqLkvMPlsrTMyqcFdDuk\n",
       "NAWwtTnnccCsLtx5hWPex6rh+nBmNaCHFZAl6oJenqVdvU19rlHzvegVaC/pEzK6zLoNq8S+okuq\n",
       "xkwkrGNE9QEV+qjmhipEOgJ2+tjf9tVb7/Oj8MszxPcBB5v2+o9eBM1G0sdbfougFkg9ack16s6U\n",
       "BFwOA/JzkpvOCEMf39fleQ6+sbJ4o1+2hCLo3+q5o7Bds7ZqKXU3sfzi8pYJoAPloeMNVqJhVXoD\n",
       "LmXgNUsHH4svC57aK0q2/Ex0904FTVZOJy4IfK0SU/kMQ7F2cpG/GSgSBRSZy9B9skOWKlwQ4pUs\n",
       "PFwNCD0Gqp5Svaq1GmVMZroWitVsaK4GSOSy/0TYXyeEX/gRGCWgFaBvr+0gBfuELdyKvC8r6bS2\n",
       "tuSKjxDRnqU++6T5kMh/F/DPMeHd3iWZMqc4p0P6w6G+FevhHl3OWvy6BwfFIeI7BCslVc5io5Q1\n",
       "F2G94FCLAZtwblrn8NKnRQsU6OhjRvP97yqG5o9/cbJct5rMmEFIfpdp7sHCWOl+qFhDl6ei1eh+\n",
       "C7x9OO3gAjJvWVc+M1+BWGbTlTTv1zF1orMy2lwWLoEtxS6XIQPQLgYLVezeA6YDA0oTW5oH7pp+\n",
       "hy7RttXadDUTPhsV5Ts1xIPTMZLkFiYzqRrBBU/HhrHqEURClGLWkAkdASZkeuSMquiIPvxGRAMt\n",
       "fuujb0bBbRE5BxWL37LZeYVTR8DIJ+7ktnZVhcFhRyrb/d1mv7GkvZFweI5PRNvWdNBFI9zqtP/B\n",
       "9o20H5mYCgXDwsNRm15DgYRrbv+j97zh+hX+6QqDXYc05hOizLYOu3rQc72F+yUvMOnWbcikCKPM\n",
       "EE6gnVHuRmyWRsE8aNtKC5MvD4RPqUuRfaTMzocxzkT+qIUG3W+KuY5moPaMEJZhJq9ZorOduTMQ\n",
       "g72aUMsv3UVvY2zfu3PnL2BIUUS1jkBqJuc+7n/BYOjPNBXh6dS39hvNBRoncCvvtKvVmdsrBa8R\n",
       "6TcTlDQ0gLcaTPrmnnceTPS+JjTGD1Mz6/JXvcrXJpekp+nLUfQw3soZNsW6k/1sDFns8qTACor4\n",
       "BTePA/I/LvStXASEH7mQtsFFTgJqMbwuUFYW2H+I+dkZP57V3QsT7T0mqJHVBO2nzFHXHKhbyx8J\n",
       "97GFZnd6DQn6jynGjX9f8VwuV4u5lVlGYrx+w7ie+PnGTGCo+XJ8i5T+wVaBO6gNVjsDei+c3JDo\n",
       "2r56mHCKMy12Kkd6Sx/RhK+Dx8pZkDMBz20VLDA/wgIEWXSsNvZJKgskCNDl0y50DCD4M9jg1H80\n",
       "48QXP8AjQfIdOxTm2yRXWr0F1uFJXDP7YQXa4g0a3bla7KF+FyWPSu8oHqzs8gMhaIGEiqqUb6Id\n",
       "TFLiWRUR82IPwwIh89SgFLv112HV+sF1HO/VthnRMncvwVhIqdXCrpj4SCRMuCSGT6DC+bM/tpwY\n",
       "rfsUHXxyvgh+mUW23/S6f/Y+tbaxkrag42fnUB6mznU9vJemCghaD2CentPByNbGCJ5SSe1nToVY\n",
       "IBfVasnzkUjX5jNaiRLSYjygSJBJ9ukRn/eO2OQUwDLe3YqtzH/KkmOmp/GbUZrzw8sCSi30N/uj\n",
       "Glc5Ff0me5XlV5Mc6mGis55Crw4JAhyOveXRSScURtbsALkJiE4/eJPLgfcmMxUhlPIXRF5dsgkL\n",
       "so+U0vEWGupSSSwjUyBhtpD708pRBsGiV79xB6WVhocPy02YOsStyIqcx0GnutM7Zc2yH/c/ADF4\n",
       "4T1gH/L6WnStIfTCGrqnzS9OIEIID4CqIaXoEzKr6RsytXSpyfTTw9UWuOm9RPi7SKxbEPwFVr2e\n",
       "1HaVIUr+orCA9nwnPQ3W1Mu7/QI6dhDfxRXY5ksOE2hxtOQkPZqMERPsTZ1bkWX+Nhcc67VKjWpB\n",
       "fwFhIAqVUz/a/TvZjWqD1M/u5DAG6hXqrI7zN38XK+z9qvAHpg3jYIXEVHR2UEHy6JqcOzUSoeDA\n",
       "e/59IKjorcvOe3gdo70ZTnEFlaumSEeVODX3R5rBecWY0To2wFIjHq4BhcgYVf7ZV1MMm3xoB1HP\n",
       "wvCWOCzd3VzZZyauBQFvdiEDjL57dbbcCeeZXscfISyiclAYHLdbxBPDFusFkcdz+o2f4qDa3Bn1\n",
       "c+EyC0jTV0V674NLVjMn9kyIcrgLi9cBD7dfCGtBkoWO3V82ByaPd7VdYk79tOzeUbd9w35/YfDz\n",
       "80RmkPMWlqlI0zpm2k+boPXtreY3Z2pWmWfmhdkQClyWFsMZVnKaOsRxQwIZrP3f6/bZhT5In9mY\n",
       "bEH7Gv0HllMwvizNgu9PobBipTG5Vbt2osWruYLQVA+DlaCChFdEYcvkVn57WO4xnmNPFfymBfCb\n",
       "Pvscs43HsnMx9qWEd0N+gRr4bLEw1Mg7B/vlkoV9n8hUDZd7Q4b3In6H6osYBlBQqAGxN0Gg9Zn/\n",
       "HZS7w8z3NECGBEIt5jYx99DBa64GigN+bLx+Sy29udXf6Dy5HIAD7rhL/pfyyMbiMwc2+lF4jRbr\n",
       "eZdsSHtdXO20h6SxdhBrHE3gjORbXtLgluLWfcrwtaKV1YBLp2As5XyY2q+m7F0MhjxTmsZc9Md3\n",
       "fw3N7eIw4LFFdggXpGFgw4bsH0Aqwa9I6RdHCZt/Q5gZUgrqouQruiKccBRfjJ40lQJjwdgo/q4M\n",
       "py9SZnz+azt2xMXvKUs8nyH5+ojOl6Z5zW1K+SBUQu9fPgxKdc8iZk4W7rVPp5LLRJEdOEdOpF79\n",
       "oXyHQKkutk55Og1Z7QYVJHPKnSvHBep80QE4YeZBnT66L6w4LaoinHX02N3hrn4FX0ccvRwjMzXs\n",
       "2bbXCfOkgHwu2+8S7iDr4cfQ1wu/PmJPHjcRMFF5goH/0WScD7oHHwdsr+Hv1y8/n7X+HPJkkHqF\n",
       "oKUCeto8NCIbpLo0dtbGOaaOGM0ZgHjZOTPcf+unZ0cpeu4YXv0TP2r7+Is0MYInticekB0lZIfC\n",
       "SaqhT7CsIbjWpgx/SGRcnnb0vsk1ci68/AZBUxkUZrJkB8YbwDKnm1ORCNejQCcSprqVTplYhQT+\n",
       "Rlx9DmXw/9+9ZIq2DYrdAYMzxGQufsQfU2tfuW5V3QMA4BiauG08a5e9gYaE1X5Ms19FwWi8BtNl\n",
       "7OQKbt+0t2MmOrlMXeyk/1mgdlmKpD/O4z7nN3ULnmexq/PsYq/nvM3xzeO3cA8AQccW+5f3v0iK\n",
       "spg/v3MQe30QFjxaHImGE/ihU0YhTpZU8xfPcYZg7eamz2dE4H9askL3aUyZgppcGvjVyvKm2J+G\n",
       "JHqD6JtRKYbmlOuSvQj46+N7iK9JhHjA+WPG2ZNV4a1mpaIIseOSOFU/fuqPoxS2Y8sr/qT7F71n\n",
       "vsaWuQJXGE5dU7LbYhiKg9hTF4LP7z+xGd5x2TB5vgsPTnQ5pQv5iy+cj1+rBTMbtgcilcw2Dwc1\n",
       "0gLOQkjd8paYHukqGf+Fkfig6h03xafs6AoRsM9Ej/ybhRvOemTCGe9loSrJqE+y/6zd2kEdq+k6\n",
       "2+55GT9DqAIXfXerjaFYqCL+z4YkE7lmz2CARsB2Myu/5QFH5Xbdteve+nk6t7xxrvCcuSEfHBJe\n",
       "sjMd9b4ldz4nGvk5FrhNqZVtSYmaYxIx5WRnO7L16fV+n0+6SJf24X+Ce+57s2Op2F3z6b2NRmxo\n",
       "6VTpJBCWhrEqn3IG4DsDg+hxprZ08s79GgtetMVrPhbb3MMiZqlV3ABR/pIiIVnOQOrJlj2xYB2p\n",
       "Rg8PEQ42uHnnb5w8oEbh907Oc/5X6OJpn2yzzfwjBvvPoWx+Ffc+ZmaKpVHaoI+Noh/dauC9atqn\n",
       "PQ/X9aihbXWavcL5Amq7MZUjanbxKsp27Lm6737nRBZwoKcf6RJdXKPrihtXs8HT7f3v0eqHT9Eo\n",
       "Sp26s+UzfDykQwnv/tZPmSJ7h7N5pqnnvICJMxK7eOcT+tIruEyrZFvdnWLM6a8zOXDD3aQ3SzyF\n",
       "ui6sL8qQ59qw6tebhjsbKLdOjjdXcuNk6xBO74uJo1Z19KcZUWRFRH6ZS0vPORejORCtA5We5kXK\n",
       "Hbwjv25spfmxqlesV9VieHGSSKI0FnzWTcgNR+M18nGSDe9uh2ZcFopXxL+qxN7tDwB+l0C+sUm6\n",
       "mCq+/gJ17AJV2I2gZRiAFVZQ2t+b3ay7IbATygSn+tK37VJ4+kgtoxEI8b1kDCM5uLsSen4XKPJC\n",
       "0pL/JZQoT6QCsFv1jB1PfeLvmCRAuxmPu2DheEiKIC6MPkwMkigP5UJs1Sgfp9esapk8RCC2RbO0\n",
       "+kSwmAvZN3smcDL155+RcqOKm46uGAk9HE9ITzlQQ+mEMTqbWpnchxxZ6BGRj4fTru/WukTBONai\n",
       "w0q6KnTKVL0itFf6+MqoTa2XFtepJyIwpfOnPYVcgi6NQqwfguCid/qp7GyH/X0Rfzf26B0p/ARS\n",
       "AiDN8mRJFWi2ZWE7OPNrpgAa+/OB6Z6dmCAUDKvGcMvaHoMtV1lQKKsKuwBpLxP+wQHDZs8PXzIB\n",
       "r/cQmITJCzYgH/36QmH4XuS0dG0exaRR2eqX2hu5DJrT173j+qE3hlui53vd25LbI1lPWSS/APzc\n",
       "GYpmFAFVTwdGW4xje3wj1pptguX5gJX3JLA38aayIxVZ/VlNQtyNFjFjdPqgUkC3J+VMNpffa2xC\n",
       "tvFWEZ2D/W7NHvB8isyFyd/WqmOiLEifU91RtvF5xyu/f5i3zu11759n2DTelZ7WqvFYXsfbVJrC\n",
       "zrrjkOfrmK4P1hgyYEmvau0JeTq7NXvwPSkXR79feVTafMMtsZnT1Ry+kivuQx8rEgKUH6EtvtbP\n",
       "yJ2imF+Bz38wEbmdDwFmyvn8otb5LnfOOv3ZxdLPcHQoUne5sOjiyYP/s+fH5YQp+K9i6XsF/mjk\n",
       "JTjUVIunKhBpuvZFAm22THicPx5CX9RpchvTqF6A1cFWBnHh/5gXoqJ3PGXBdNoTgmfthny/h+Vd\n",
       "zgxsMFeT1W+H8Ki3F/oooGC0eUyjm5eX2xs1v7y42RnnWcHbhYPhhzenCZsYAn6v8l19MV3bXDk4\n",
       "Vq/qPRhJTPxaKvPRZL0ZiMW51kAT94Z+ZBXD09F3OTd5kHbBBTRS/YXfYnd4r/iWjzHfMXvjDmfw\n",
       "9BarmwStRNk1LxaZ50uMRUsJJ64QAPYRkoJSaL6NnPMxeJIrnvfWnae1+9aFms/nXdon7Nyc6+21\n",
       "Nbf/qCp6vfLTOI1UhKHbfvrbi1VVAwSPX/T6uZbS+8U01qkYy9FqgA9N/asa7xP7buahwkQj/Urc\n",
       "qZqSfQo0AL7Li4UlSf019yCktkr85k6VaG+SuVenC5exB5BapXB3UBT8WkoI2oDOU13tzelwAmI2\n",
       "l5uZVmOtZffeDZg+VPXaQ518DbsplRrNVb+H4fp047XDQzlJQ9DqY6iuNq7AiJ5NjSwBb3VeY+S4\n",
       "LNClpUg86vWG7C8BLHhyRFP35XYDPPCksQq+sbrAu+rj00+gxByV1qkD+eTQqv+GFFMMy1qo7CZl\n",
       "pfcYgQW03q3weR4RRx1YnKwfF1Liko3ShACbtf946RBUgxummYNyxj+EV2BWoOLCdQEV8+o3251x\n",
       "tWv7m35/+nzJygc42XzapScuDeTltr8ajAkrjhcVOJNJuYARGSp3BDRTgpuaNmBlo9E/6rt/2+Wh\n",
       "peXSg6U/6mhf7fLsgNhLW43psKYiqBoyx7K/9yxb0Ev3pHku1b9PMLxfX6PK7gV0wCP5KI0Y0NDy\n",
       "5JICo1NcWF8DYJktKUyXsFuJVOzTP0G/38BtX4GhW5ACDeas319//+S9AyzW3NRK8OKFNPwqgPNV\n",
       "/73sVy8DrdsIv0Xshtsjh4ux7NBy09QYjd7+RLV3MdolCL+Hd3Z7Bcsf9ChddlFvUVHrDaWOXSMM\n",
       "aXCd7KmApuDkEjzd+o1UwPuq5p2Vq/CbmS4ZBLrEfmwn6GQiuZkYCAB7PtLyLEoeku+o8cRQRhwb\n",
       "pLSxODU/PyPSD+74HWCPbkl5K6OXCT88iUDohfMygMxzqtUZq21oenhbclWHEfx7YR1ez8HY58lp\n",
       "dIk5hWOu156VD3XcA8pcG0Hl4OG7sATmDG1wsz97FFRkS3kpFqektrr5YwttFuzxpO3o89dp4lzv\n",
       "+neX2lErb7QKb+MEy6UX93gqVAWFF8BbG9GK084mg+d8jqm5+Td+EISbfBNUi8ewAMc4+WOWVjH6\n",
       "jUvkn7+0U7foiyD1VstSZiq0tyyScZkkJXcAy1epObdCGWp9vg/71NUOG4ChHplD8TZ9ZgDoINnC\n",
       "BxpuWNdY2sIOq0U8a0TCoV0vI/Ak/EharBkzNun7dqUXK5rmgY+ua4nT5OhnsnyALzXeUkpX9CbR\n",
       "+vhKn9VnfpyFwCuZIXCbRIfj7suocdUEoiwb4QjLUVlzpsuT3U1A79SqCqAIVlp4uQdmswM5kTP9\n",
       "xZAjtAhTyx9jUIjNtwsTfjOqnRNwQQAAAiVBmiFsQ7/+qZYTAM9AEI64X3I8GTaaRxBAX4Pr+ySs\n",
       "0blYpBf8yr8X5Xg8i/0rRN8tSTM8VzjeVmLdQpB9g0+lhwxNdJM5tuDv473Yh1nF4M7CJXRB/VDy\n",
       "eVmFvXpZ48sTe5zOe9u3vLIz7CSIt8RAWH9aY3q49UvkZULhcElDcp6XzOpmZClmV52liWpbzE0Q\n",
       "B25dsiuwwcM/xh6z0vx9R1vYZUWAx8QAbN3IKyKlAwyUcoUVJeiKuVJx5n7I+Sa7pJ59JwzsAtxx\n",
       "8HtNzhT+qzAaNAYwP2Hq5JxlDU+aK/KJFhr/Hn/JIHwP7l27Ol55c8pmrBkBQ3cGfeNanhYjU/7D\n",
       "GiyPbVt+06IG1oID80Np/+83cM7z/YIzAB1YOTbVsXabsPGA4k5rWrIbv27IZjY5c8zBQa7zuLyS\n",
       "A7I6zXgsxjq0L3bUFAqjyH4/+QDj5FdkyMAsAdWb6WBPVAYy1bDzVEUT/rY5oJu15MZ+EpSWCn2H\n",
       "JgJUfJ3P8viR9Oh+pfqmg9MT/Z1Sv3oky55LiKfqT2cPFvJgvKd9AiZ/ZaOtWIAywBzPpB+ffbLs\n",
       "a0YJQAcS4U9fyoas8nda4oNCDA2+zuGNtxpZG2HakTR3lJM5RynfYkSdKI5hxS+rT5bBm4c62q6y\n",
       "308juPCkqcxiM6nsLRWFacj993i3GaxgWmp+V84gMzmIGCkglXlruIZQEszjBsVfsutg/HFJkZJk\n",
       "mPvQpMAAAAFLQZpCPCGTKYQ///6plgALJ81t7UnzgxiZY7BVABS0o2x63NdrlU3XdM+DMVpnZfwb\n",
       "MRVtKH9SUOoS/Awbkcope4tySAtNaH/hm8S4uy/luMc+psMyZ7JjOqNTaH9B+v+qK/DEFWc9rcTh\n",
       "SVbf+YJD6Mowt6Bp87Al16xVtwTHYWBOukIx6AsnjS6J9OHW/bxAWIH5Z0LhLuJFZQkGgqsWRvCw\n",
       "hcAw/DpCYIDFA+HkjhZ75ZOY8AFKr5UR1aPCjXGGEA8KUJXNv37HnMa5kysPY1ozdq7l+TJuuV2z\n",
       "ll266yROf+KEfv8nbAm49O3M30oXMdqltT983+FZ0li9BgS3Xrf/U5l6hTb0s9U/lVkkRPHZmydS\n",
       "XiV7b/53Di1uSjGYHmRI1Xabq1ru1HWSkNlljjDsaKMlGh2LFQticw6lMAZK2eZevrMjVVNymwAA\n",
       "Ae9BmmZJ4Q8mUwId//6plglZrUAFFfr7abDO8X5z4UjsWCVVuDxGBcvkXGSnH5EeFXssI6t4EKEn\n",
       "gN+9dZ9zdQgIelnOXzFCoPfhscy+GIigSI16l3FMqrTydY3dr9s+yueWQ3b64PAZfA2KDQgNkR/3\n",
       "OU5VLoBwidpr+5IoxsjB+SVNbvcSJUGvhuIymkgRIcIPVUZALpiV/TjsCICgdfRRUZyNVL4C0tnT\n",
       "5O5HUG8Sd71feh0cIA5j05JrQbZkJ5q3m9sLdnSy2k3+p5u06ifdDaVbJugmB7sAkbvHH6iJE2eu\n",
       "WLO5qp84jB8dJQfaWZ2GwzKDEehDJkUN15nD1uxT3bm5JN6qGEEfKPSNqD9eufJykN3uXhKSk4SZ\n",
       "tcAyxUkv8T1s3FxEE9a3px18eX+Ik/G2hNVXen8E6C7ats7CayrnXPhWKtNam9GrZRq/SRYUrvNb\n",
       "UaRy1lWcou+GoebQel6luz4/iyUo6K4IMenH5L9Zpl2RqJ5Dxw83asZTLh9vFI3sL5pl8OaMnOzu\n",
       "PSME5bjZ0vkmpObJF6Z41S9qto7c+1NHoolRf0id2MhcfXz2pYhHqw3zl3Sv3cOAbh5NYacpUTDs\n",
       "DQQBwpICmGSqK8aOYNLEKbGnQZMA429MEzxisGNVLjdP4LmEH8cWJ7AAAADiQZ6ERRE8M/8ACa2T\n",
       "Cw9GEB7wtjxFJy8LAAJ1mN7VXHcYF0gAcK2KCt3bXtLxirIqtQpaS5BKo53PjKsBaOkfw+0U41B0\n",
       "CF0nWafBJngv45VaFrIogxzTjBmOJaf3SgV+FMJ46Jv+yngV0JjCyep73BNjdbyRuUIoyQaX0mGN\n",
       "cmmEEDMR+2RY7ci7USOXoPGbSJttDbfnibbuniSYOp3avfDnwrx9F5GTZgz38L9U33r2sdDWKrWH\n",
       "eZCGob+uvgB7AeMbZdpdwy6u8zxW7LzTT3sMY4fqcvwV0oAQA1IPz5n7oQAAAJMBnqN0Qr8AEda1\n",
       "vlEyKhm+5a4/DjwbABOfWVQ2Y932dg0OMu2xLjlGuLRBWVczakvYAhHAGogc3WIzc7JKGKrCH+A3\n",
       "gWoD/atuj05f1Uwfu8bVb13LIbsAgxEpo5ElMwz5GquEdYeU5o795KyTyDfv3H0Bqj78BrWupSc/\n",
       "LT+oc2A2VkMKx8p9wACUhI7pGpDDlRUAAACJAZ6lakK/ABGlUYuCsGoTogAnZQkw23/d0tv01Tqv\n",
       "+Tdj7gkj0cjbScv6iEWn1mjOyvNQspdgSnIClCMcwFBKJiw/hnI0SFiHAWfJlBPct5efJVr5HoKM\n",
       "iV5pmxPoq1vwYSkGkSG+/vBvrNlGeplipbGN39K/kIW3e1TrDgLTvSKsYeT1RSp921EAAAIoQZqq\n",
       "SahBaJlMCHf//qmWAArekoJ4BgAK1xd+X9L0odDNP8/BtXgYLHjt//Im1Q2TT8MabsnPC4NjZEPA\n",
       "n8B3wkTaWjvux9tz7SQPtgL8GlRHqXkO6YMkbnMW/f4g18EnOEVSwmvOaWzo8PzZhMYxLkiyblVe\n",
       "28+dTfvnc8uUKSK1cD1WvB4hwl0R5ENLHbNzrPw8lD5mOB5PgPHVrXW+JxV6Ubpq0CuJlwbPZmSX\n",
       "MUxBPVPtgkz5YsI2cEdlqOs4RpJLHF7L9x8BV892z6quSWpY+Y916Auv2GTI8lmuLLE2siplKfYI\n",
       "mmsexvw3WtqCDkiZzs1CUZwhLz5pIvQ9BRYrYMOGjrFHAHtdtD6fZGt99liSP0MsSfP1PkoPFSLS\n",
       "npeWGgAlaIaz9pQBfA422XSKYn9nIkTRFqFwmni0j9au29OxpPtXt6FUFKDeXnQ13ncnuVg7cBIS\n",
       "FmcfE6HTLewOGzafpMr2Psjk9vT7jwKQU7JMcbQ0mQPAXQgmui9LxxtM6BGTaCqjBF+aoBoUUXfF\n",
       "4Nbh5bcR4ihfXdDug4vzI/MwyNJGAWOMaYFiqRhNmOsSH4zQSPSgYRyOd2Yw5nqNeBILi5LrpGHn\n",
       "Z+r29Qu6AzdwqC874W5kiPUuK90ueG7nWHdGKlZiq0/iYlrkaV/hEb1r8wIYta2srRaaS+DzwZqU\n",
       "Qe2wX73Wx3GaHOvZjM7kOhqiDz2rp0bJLMZoWwCRTdhqOO+BAAAAxUGeyEURLDP/AK9VHNPcs+T3\n",
       "naiX9PxqoAB4ZyW+xRekcyS5yRdsbLwP8Y1Xq1AbJt+reItoZwXDajl9zmUc7+lZlQz9AUZoi4h6\n",
       "VW2SqDd5JNqkWBooPczGQMrMu39JR6kI1BzQ3iDtAJ6BC3IDjH6/v+e6olotQKax9q28Gj67pscQ\n",
       "z9+XHeLemH0k+yZg+WR+9I9vTHnJPK3oJMKnycnv0q0e8wIn9dKVjhT8T2rjtcAeYsRxXFNQ6oB2\n",
       "pmaDUQYMgBmAAAAAkQGe53RCvwARQra51UAMFvU2T4hSkcAJpNZFHXgGkZgdu1+xBs/zV/EgkWvs\n",
       "Bst3+hKi0u+eVDCpX1x9HL6Hw6BBg+3kE7NCaQOyxVZN4yuzUJ1w8285DTZTHmA5HMNs8kL6CfB+\n",
       "+KP/VkN+Bw44q3WEbcS7KHxHRaf02OVyh7lLH1iclymBAFmvTy6Ni/sTnYAAAACFAZ7pakK/ABFc\n",
       "7Of6bLDJtiBHPbwAmBnqwSn+o3B/Mhu47iE1BGahnItngVb5s83dsu3gBsXB+JKZHEj920uCfPMj\n",
       "nseUP9QAtNwbJJm8JbSbv2Qpm7BL6pjDrxA2aK5Ezrj/obALAygzb0P4ECdYYmGaJA4CcYHrFyGg\n",
       "hcI0Kb0w26AF6QAAAZJBmu5JqEFsmUwIb//+p4QAFa/HA/F0Skbp/w5fmAYoM0W1H2ymnN0SzlyC\n",
       "8o0mPZ4RbT/x6Sl3uXOZzqvKf5vWHuTC57wRbfj1eN2YKxO/ErHN4pfN/97/fctg1H/w5aj1I0jl\n",
       "gZaoZkTtul7Hh0zlPj77Q//B9Pssk8hRVJ2hHPn4VfAX78/q3ttMd3/EBhrf3wAOwQ+C9tyUuuuj\n",
       "nlfEJ019eme+NJnDBzRE4bF+w6M0TzCAXxhbZ99nhp4aQJztwkJYDTUo5KAAqmS2SDQJtS8qYPYH\n",
       "3PdE24uIyK5m+Yfz0OJ0JHt3KGy5vWEXFleIV8Kttgw+DYEzlXJthlyzPlNi5BmW3ThUMnYL8K0m\n",
       "DmFKfBwPANllrZLvYryjrF4woeDZrc6eSIFQE6AZAWsCKLFjNLUJjNMUfjL8Ax7djNrghDOFdURI\n",
       "uwfsk1S78utcvD9V7GwIm+WqHp+F9H6kwPm2C1NDroS5pf11IP7w8rOxQsXgtT8jp4Qw2j/nc36k\n",
       "h+WHYO2C2aizURcOhczTPGAAAAClQZ8MRRUsM/8AsVNT0LsK+ZuCL3vGWjUEsLol/Asnh4FvuJcD\n",
       "F1/ikHPLywsEgWRaUiYM1uYM+9AAnET6Y0JUYtHiuzLCAJIUs1WqcUQXHzZraXRdNgjufrzJXwGZ\n",
       "dLjKcVtDUc68pQCiTqADUpWoZLy1XZzuFlcaKHiCEefUplzLQDR7MCryU5WAc71Es4xUKCPwtwf4\n",
       "On2npDaslnbi1qVsoXt0AAAAnAGfK3RCvwAR1zYNPjcdaNACapRIGx+Bzw/eIa/8Di3XPB3d6LrK\n",
       "fCSBUhlSiw5MAAADAFhoP8RKlhxfwYodPgUDdVKxOh3G0mwfSq1pQjclCv84SyRLF69n6+LMG6Qh\n",
       "0CkDvoSlH/IDihCjp5+de9toNHJHirRxVoRg2bfqTeCm0KOOhzRy+PjZiFyw9Mcu5BvMthRjZmDg\n",
       "m+iJgQAAAIYBny1qQr8AENRk0aHdDQRXgBYSBbhzCf2Tpp+UlazQfsDeXzhBGoASr++DdzEVFo7M\n",
       "9m6vmGUiJdVOHpjyi6T8ByUj9Otc5HL0pis8NNp0A5KVoXEWCFdLAtbIM6Ns3/nbUCAfSwi1bdM4\n",
       "fu4cp4SwXR9BubGlCMkiUrZLtvpjIJs5ldBlHQAAAQZBmy9JqEFsmUwIb//+p4QAFPwiN9IAW8LC\n",
       "rJ4F76lpNPHQxGBexcEkZ+jskXfnRko//phe5mNXF/L7eDu4npbYecPAg3+gzeTEAa2Pelh5/xrm\n",
       "ay5/gbSuc3kl3J+iyRd8/63wIMxsjffN4B4zcjiirD0fLAO2Im6Pz291bSY/bIBYVksUYPmh44iw\n",
       "lu2fMHj/f7GYNwwuBsXxD4V+df/Hn6RtpMPq+EEy+YtXkERCGnDhgS4zG+QOe+TXgAd0aia3MRPq\n",
       "m7d9lYpjSAkUC3QdeSuODLkJTRcFrIfmzOZUTUvlps8FvdFaoqDN/WhzV8UHdybtNuu65XG3MK9j\n",
       "llCxQvxjseJRAAAA5UGbUEnhClJlMCHf/qmWAAqYIGYvl/mg5aCQAbGgUoBLmhcNrcjp7/cApzqe\n",
       "3QcYKgCRm3deoNQGLQdBYhD7o4G7A5ZqM4wgC7fEAjiuBjPzkwz6KgEIJUwvv7ipGse2v1dqNNht\n",
       "W/Il4xWpZWI2+CiiyXnBjaF6kelmHlfeo5ySDcZ1VUSMWS0jiuH7XylMj51aUeNvuKe7uJjSTVN5\n",
       "v16j8HprlY7totChECXR78Inn3duBPHr7vBVZGTMBjoQ+SoehQh67rUrsDS2wQLCOTLcA3boxByl\n",
       "req/97PTXZVa/hkEbBIAAADgQZtxSeEOiZTAh3/+qZYACqc88a3QMYiDSAAQ8hmP5xFWqKWHZam9\n",
       "RaeqcvZ391e40wiycMs2ShJ7hU+IO87tjRVLLdvgxnvV+vMzVNOIVpyobSxZnbYlfdMimRR477L5\n",
       "+i15EyY4L1ptnwcVCSnsdEXN9x5UdJnODlZ1p63oXHIPqvGndYzc4JyMlfhgr0wiGHSxh8HfKrbO\n",
       "yr0uUA7GBO1FSCMe4DtSeoxhZknS5fM8C44DXm8hdgijwjHTvhSbJnjCE1Gy2KBlBhwWeYBsfQJg\n",
       "7AqLxjvxh4rNX3eI2qQAAAEnQZuVSeEPJlMCHf/+qZYAClAjGWz4QAWw2vsGZPL8CFrx3as0mLOo\n",
       "vb17aF7RHxsmTkPleoNjIO+nduiKSFTFlRHWJex+yTE973BvkJVxdMUF3AfEYa3pxwck5nebs+fH\n",
       "20CT4/jR6rI+QAMFJ88Xpjaee+dEROJYS7m4fz8Majww4v8I6d/CRnKfvKMbL2FWzxxWv+FDnVub\n",
       "RKMJdImhGX24UrywqJ8oa0BTIKzktBhMXqiv2pE4PuiejX0gQdR+NeLoj5uHRyxW6YLizZKmVMRX\n",
       "1m6BpAKNsb+v8UdIhiA4WCBf+f2oFIuxrUpFuZE5G6zOwho5x70ZdoaPCC+Bprg0DfBvQCwgufbg\n",
       "15yorjyJOgDyHa48u/livhs+BNFdxRFdOe5G7QAAANJBn7NFETwz/wAI7jOGGPeQAmTl+eVJRzAu\n",
       "wcDYBw1eFAONOiQLSOOFYFyQAAADAADp+KJHWNjbd6WyjqDmmz9dnvyUFoWh92DDjHK82yT/i04u\n",
       "k4eVc/hswZh80LP9n2TrA83VsN082JFasnIXL73rUAOgHxadIwngnJCXdaKLrC309fkF1zF9CM3R\n",
       "OLlWVLcA/68El/jk72gf4EuCWthglFWPttHkymrU68TmGn2ZsbyGQ4kU4LpsF/RTO6b9riMLOUYl\n",
       "UJdOOuubiilUCj35rIAAAACCAZ/SdEK/ABBNvij0mgWACdjWxh+YSziaGQP7TZOGI+GFoW8WKFkj\n",
       "KYBGJpTFSAAAAwCEbrVVOUSFu97PY+pj+ywAAL3334QIOdG8Jb5PGcxQ2Ss7rrg0/LksD9po8v3H\n",
       "u+wQXfXOoiyGh1jgc9q41/nnBuuZ9KbjopqDEsstdu+X2QAAAI0Bn9RqQr8AEFRk0aG2VJnAC2XE\n",
       "MoedXLdI5qK6zr8iC0XhzAdyzHQ1DZ0xP/LLQiNUdesd2vpnVqUvnzHjr5noP66MAKAAAARYCYLW\n",
       "F5SNWk/YCEzR0HVm1uN03TV8kQDLuJ0ToIU9CYEk62t1MAMYrReotoMESPnqSGV+sTzkT8cQDsFe\n",
       "CMo+fl8Y+HkAAAGQQZvZSahBaJlMCG///qeEABSOZdiefI617AG/ADdTG68CAoodXFTudTdvXhxx\n",
       "uSrQwig5z5eNSViWEEi3JWtdjIKN4EY/+AHok2SIvqYd5UPlm82+dXSBjg6sIgIttDBZOWVLjDdb\n",
       "ZkYymSoB6VBthXOl4Ta5W3K7Kl3Lp+89uU3ldsekYpjS2p0L92+wjqnkyutS2VNsZvP8YcD29ovs\n",
       "NVLWP1iHkYOkC+edWRoTVyv17/+SDaHxAgeUUiHsj0noSHzpYR6c4A434VBHIVnmY1NaRxLUDQoc\n",
       "DVdr6/A1bYpHSI2pmlleQRsze0yCblMAtmjFkLwXQG6nXB/Gy8I6KP0HqboeDx37rFQqSD/jjkpB\n",
       "w8SVUIWyPjeg+b3L264t2Eo3VIlU3f4KmgtAdVGwziVorsg5YRSo4ELnwOXTkdvGlXpEnpXGY+B+\n",
       "5lEmbaKAJCcvzl3LqhC7kHeLvqJNvigJ4//zt+AOHqMpNm12L/DYIo9UDd3OPCDc2LRlUZWhqDIr\n",
       "NPpRCSA6cL89DxANOAAAAKRBn/dFESwz/wAI7FQaP7EYjX/MAH5eINwDq2PfgBn82wE1Ne+JtjMT\n",
       "a+prts5nM0FPcbof2aWN6Q/csiMthBiXggR2VsdccnQNlKosj4F/eGixI1nSk6DUlNRZSQV3UeuH\n",
       "lUMfmxM49EpfQLViiqFDoksyUGyHqfmTIJ9TF5sOKoxVdpz1fIQytQp3m6a9nH0Ateumo4jWbjFU\n",
       "vu0MSkDrvsfv4QAAAHgBnhZ0Qr8AEF2E1I72g0ACdjpU2o1NgkFxqntsFx92QyCOuCttuyvraxCi\n",
       "ei0GrdPQrf1RJZmOFbC/lpanYIAePBVyY46jY2Vh9PhlbqTPUKcgcoLAM8OZfnrKgeydbIZq3O1X\n",
       "qsCaSK0dXDzlH1nuSKD8UF+JE20AAACFAZ4YakK/ABBY/O41kYngBM31Irl014dRg2D5pSnFmxtl\n",
       "E5CGM/gMV2R9KvgvwEFrNg12uX6jKKCkLEAJjU5fCjeLriXhKRJ4zYhyL4kKW4ich7R2k6ZeMTmg\n",
       "isBCK/gfIJ7jNXJQ44HgsR8bUA2P/Y4yr5erGI6JA9YiDP7/D33qGeVQ5gAAAPRBmh1JqEFsmUwI\n",
       "V//+OEABLvgebNbVCd1m9+pZwo04OAd2P8UF6LiY1kqnKAAHwGN/a0uJAQ5KVSf+FhJV0mi4RbMD\n",
       "+cRWRlgsyq+bVweh9s8w/bq+F3vv32LC4qvIJ4KAA8Mug98+v3F3PU160SYjYVUtDf7RUxn6QrMa\n",
       "Drp8OSeycoV977zU5B2LFEJMZJSFZoWORx5TgAW8XvLlEZe2esVY+zK4nD/nbIKTNIW7DpWNnQ1m\n",
       "sSUAavi8uAo4VS8ZQaG2f6hqC/8FrCxdNyY/CgzQMU3fp8+tXzGRHhsqAkrdV6HkLhDhbcLoajNP\n",
       "vXuBdsf5AAAAzUGeO0UVLDP/AAitlJFFEC1GaTM0ALZLBp4gioPxyaOZ6vxM/7hM8uWzsJkKAbon\n",
       "/fej+Wq5s6mS8RFcyqWKNcu5eyfbtgYbLIDkkjStzLtrHfb6CmZ2D5TlNEOEEz2Jd0/ItBsuiGp8\n",
       "LgKCA2etUTE1kpFIY4Wamtz9XgK+w42GhcVmf3Tn6MiS4lM8bCaeprVL4vbSIdM5w/VvEQAAIshm\n",
       "PSpqGy/k2gIKp50dwhLuv9yq6SFNi4O4Q7SdRxvPu0FemOc1UYAtp4qma+AAAACGAZ5adEK/AA/h\n",
       "OX+LexxV4AWy4wBXn2mlbL4MHS/NqQcAAGk1PxJriHLvJianlZQWtOcuBOOYxXVCkUBNXWAolde3\n",
       "URPSLyyNIGgrSRvEjH6x+FkII8hzVJetIZH81f8sdsl29wPUGbREwbREaA1/jw/yhIv1Muus8Z0e\n",
       "szduQkhviu7ev5UAAACIAZ5cakK/AA/fDDmnoyfcAoTEh9VgwAmG8iG3nQxEUM1rVrGBzacfSh8L\n",
       "2/seaYTfjWJHT8r9M9rgFEgqXuBvBEA5CPQF91MqghSbhccSIOGqEEht3S6NB55S13xoirRtJ1cE\n",
       "mWYv7iud/Erte9OPwLDufJxAN6t8knYrMzk2foIx0LDRouW10QAABHZtb292AAAAbG12aGQAAAAA\n",
       "AAAAAAAAAAAAAAPoAAAF3AABAAABAAAAAAAAAAAAAAAAAQAAAAAAAAAAAAAAAAAAAAEAAAAAAAAA\n",
       "AAAAAAAAAEAAAAAAAAAAAAAAAAAAAAAAAAAAAAAAAAAAAAAAAAACAAADoHRyYWsAAABcdGtoZAAA\n",
       "AAMAAAAAAAAAAAAAAAEAAAAAAAAF3AAAAAAAAAAAAAAAAAAAAAAAAQAAAAAAAAAAAAAAAAAAAAEA\n",
       "AAAAAAAAAAAAAAAAAEAAAAABsAAAASAAAAAAACRlZHRzAAAAHGVsc3QAAAAAAAAAAQAABdwAAAQA\n",
       "AAEAAAAAAxhtZGlhAAAAIG1kaGQAAAAAAAAAAAAAAAAAACgAAAA8AFXEAAAAAAAtaGRscgAAAAAA\n",
       "AAAAdmlkZQAAAAAAAAAAAAAAAFZpZGVvSGFuZGxlcgAAAALDbWluZgAAABR2bWhkAAAAAQAAAAAA\n",
       "AAAAAAAAJGRpbmYAAAAcZHJlZgAAAAAAAAABAAAADHVybCAAAAABAAACg3N0YmwAAACzc3RzZAAA\n",
       "AAAAAAABAAAAo2F2YzEAAAAAAAAAAQAAAAAAAAAAAAAAAAAAAAABsAEgAEgAAABIAAAAAAAAAAEA\n",
       "AAAAAAAAAAAAAAAAAAAAAAAAAAAAAAAAAAAAAAAAAAAY//8AAAAxYXZjQwFkABX/4QAYZ2QAFazZ\n",
       "QbCWhAAAAwAEAAADAKA8WLZYAQAGaOvjyyLAAAAAHHV1aWRraEDyXyRPxbo5pRvPAyPzAAAAAAAA\n",
       "ABhzdHRzAAAAAAAAAAEAAAAeAAACAAAAABRzdHNzAAAAAAAAAAEAAAABAAAA4GN0dHMAAAAAAAAA\n",
       "GgAAAAMAAAQAAAAAAQAACgAAAAABAAAEAAAAAAEAAAAAAAAAAQAAAgAAAAABAAAKAAAAAAEAAAQA\n",
       "AAAAAQAAAAAAAAABAAACAAAAAAEAAAoAAAAAAQAABAAAAAABAAAAAAAAAAEAAAIAAAAAAwAABAAA\n",
       "AAABAAAKAAAAAAEAAAQAAAAAAQAAAAAAAAABAAACAAAAAAEAAAoAAAAAAQAABAAAAAABAAAAAAAA\n",
       "AAEAAAIAAAAAAQAACgAAAAABAAAEAAAAAAEAAAAAAAAAAQAAAgAAAAAcc3RzYwAAAAAAAAABAAAA\n",
       "AQAAAB4AAAABAAAAjHN0c3oAAAAAAAAAAAAAAB4AABn3AAACKQAAAU8AAAHzAAAA5gAAAJcAAACN\n",
       "AAACLAAAAMkAAACVAAAAiQAAAZYAAACpAAAAoAAAAIoAAAEKAAAA6QAAAOQAAAErAAAA1gAAAIYA\n",
       "AACRAAABlAAAAKgAAAB8AAAAiQAAAPgAAADRAAAAigAAAIwAAAAUc3RjbwAAAAAAAAABAAAALAAA\n",
       "AGJ1ZHRhAAAAWm1ldGEAAAAAAAAAIWhkbHIAAAAAAAAAAG1kaXJhcHBsAAAAAAAAAAAAAAAALWls\n",
       "c3QAAAAlqXRvbwAAAB1kYXRhAAAAAQAAAABMYXZmNTcuNTIuMTAw\n",
       "\">\n",
       "  Your browser does not support the video tag.\n",
       "</video>"
      ],
      "text/plain": [
       "<IPython.core.display.HTML object>"
      ]
     },
     "execution_count": 36,
     "metadata": {},
     "output_type": "execute_result"
    }
   ],
   "source": [
    "HTML(anim.to_html5_video())"
   ]
  },
  {
   "cell_type": "markdown",
   "metadata": {
    "collapsed": false
   },
   "source": [
    "** Maximum Density Limit **\n",
    "\n",
    "$$ \\frac{\\partial F}{\\partial\\rho} = \\frac{\\partial (u_{max}\\rho(1-A\\rho-B\\rho^2))}{\\partial\\rho}$$"
   ]
  },
  {
   "cell_type": "code",
   "execution_count": 50,
   "metadata": {
    "collapsed": false
   },
   "outputs": [
    {
     "name": "stdout",
     "output_type": "stream",
     "text": [
      "Max theoretical density = 8.43070330817\n"
     ]
    }
   ],
   "source": [
    "coeff = [-3*2*bval, -2*2*aval, 2]\n",
    "root = numpy.roots(coeff)\n",
    "print('Max theoretical density =',root[-1])"
   ]
  },
  {
   "cell_type": "code",
   "execution_count": null,
   "metadata": {
    "collapsed": false
   },
   "outputs": [],
   "source": []
  },
  {
   "cell_type": "code",
   "execution_count": null,
   "metadata": {
    "collapsed": true
   },
   "outputs": [],
   "source": []
  }
 ],
 "metadata": {
  "anaconda-cloud": {},
  "kernelspec": {
   "display_name": "Python [default]",
   "language": "python",
   "name": "python3"
  },
  "language_info": {
   "codemirror_mode": {
    "name": "ipython",
    "version": 3
   },
   "file_extension": ".py",
   "mimetype": "text/x-python",
   "name": "python",
   "nbconvert_exporter": "python",
   "pygments_lexer": "ipython3",
   "version": "3.5.2"
  }
 },
 "nbformat": 4,
 "nbformat_minor": 1
}
