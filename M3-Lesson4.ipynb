{
 "cells": [
  {
   "cell_type": "code",
   "execution_count": 9,
   "metadata": {
    "collapsed": false
   },
   "outputs": [],
   "source": [
    "%matplotlib inline\n",
    "import numpy\n",
    "from matplotlib import pyplot\n",
    "from matplotlib import animation\n",
    "from IPython.display import HTML"
   ]
  },
  {
   "cell_type": "code",
   "execution_count": 2,
   "metadata": {
    "collapsed": true
   },
   "outputs": [],
   "source": [
    "def rho_red_light(nx, rho_max, rho_in):\n",
    "    \n",
    "    rho = rho_max*numpy.ones(nx)\n",
    "    rho[:int((nx-1)*3./4.)] = rho_in\n",
    "    return rho\n",
    "\n",
    "def computeF(u_max, rho_max, rho):\n",
    "    \n",
    "    return u_max*rho*(1-rho/rho_max)"
   ]
  },
  {
   "cell_type": "code",
   "execution_count": 3,
   "metadata": {
    "collapsed": true
   },
   "outputs": [],
   "source": [
    "nx = 100\n",
    "nt = 30\n",
    "dx = 4.0/nx\n",
    "\n",
    "rho_in = 5.\n",
    "rho_max = 10.\n",
    "\n",
    "V_max = 1.\n",
    "\n",
    "# x_i now is the center of the i-th cell\n",
    "x = numpy.linspace(0+0.5*dx, 4-0.5*dx, nx)\n",
    "\n",
    "\n",
    "rho = rho_red_light(nx, rho_max, rho_in)"
   ]
  },
  {
   "cell_type": "code",
   "execution_count": 4,
   "metadata": {
    "collapsed": true
   },
   "outputs": [],
   "source": [
    "def animate(data):\n",
    "    x = numpy.linspace(0+0.5*dx, 4-0.5*dx, nx)\n",
    "    y = data\n",
    "    line.set_data(x,y)\n",
    "    return line,"
   ]
  },
  {
   "cell_type": "code",
   "execution_count": 5,
   "metadata": {
    "collapsed": true
   },
   "outputs": [],
   "source": [
    "def godunov(rho, nt, dt, dx, rho_max, V_max):\n",
    "\n",
    "    rho_n = numpy.zeros((nt,len(rho)))      \n",
    "    #copy the initial u array into each row of our new array\n",
    "    rho_n[:,:] = rho.copy()              \n",
    "    \n",
    "    #setup some temporary arrays\n",
    "    rho_plus = numpy.zeros_like(rho)\n",
    "    rho_minus = numpy.zeros_like(rho)\n",
    "    flux = numpy.zeros_like(rho)\n",
    "  \n",
    "    for t in range(1,nt):\n",
    "        \n",
    "        rho_plus[:-1] = rho[1:] # Can't do i+1/2 indices, so cell boundary\n",
    "        rho_minus = rho.copy() # arrays at index i are at location i+1/2\n",
    "        flux = 0.5 * (computeF(V_max, rho_max, rho_minus) + \n",
    "                      computeF(V_max, rho_max, rho_plus) + \n",
    "                      dx / dt * (rho_minus - rho_plus))\n",
    "        rho_n[t,1:-1] = rho[1:-1] + dt/dx*(flux[:-2]-flux[1:-1])\n",
    "        rho_n[t,0] = rho[0]\n",
    "        rho_n[t,-1] = rho[-1]\n",
    "        rho = rho_n[t].copy()\n",
    "        \n",
    "    return rho_n"
   ]
  },
  {
   "cell_type": "code",
   "execution_count": 6,
   "metadata": {
    "collapsed": true
   },
   "outputs": [],
   "source": [
    "sigma = 1.0\n",
    "dt = sigma*dx/V_max\n",
    "\n",
    "rho = rho_red_light(nx, rho_max, rho_in)      #make sure that u is set to our expected initial conditions\n",
    "rho_n = godunov(rho, nt, dt, dx, rho_max, V_max)"
   ]
  },
  {
   "cell_type": "code",
   "execution_count": 10,
   "metadata": {
    "collapsed": false
   },
   "outputs": [
    {
     "data": {
      "image/png": "[encoded data removed]",
      "text/plain": [
       "<matplotlib.figure.Figure at 0x7fbcc007c8d0>"
      ]
     },
     "metadata": {},
     "output_type": "display_data"
    }
   ],
   "source": [
    "fig = pyplot.figure();\n",
    "ax = pyplot.axes(xlim=(0,4),ylim=(4.5,11),xlabel=('Distance'),ylabel=('Traffic density'));\n",
    "line, = ax.plot([],[],color='#003366', lw=2);"
   ]
  },
  {
   "cell_type": "code",
   "execution_count": 11,
   "metadata": {
    "collapsed": false
   },
   "outputs": [
    {
     "data": {
      "text/html": [
       "<video width=\"432.0\" height=\"288.0\" controls autoplay loop>\n",
       "  <source type=\"video/mp4\" src=\"data:video/mp4;base64,AAAAHGZ0eXBNNFYgAAACAGlzb21pc28yYXZjMQAAAAhmcmVlAAAnNm1kYXQAAAKuBgX//6rcRem9\n",
       "5tlIt5Ys2CDZI+7veDI2NCAtIGNvcmUgMTQ4IHIyNjQzIDVjNjU3MDQgLSBILjI2NC9NUEVHLTQg\n",
       "QVZDIGNvZGVjIC0gQ29weWxlZnQgMjAwMy0yMDE1IC0gaHR0cDovL3d3dy52aWRlb2xhbi5vcmcv\n",
       "eDI2NC5odG1sIC0gb3B0aW9uczogY2FiYWM9MSByZWY9MyBkZWJsb2NrPTE6MDowIGFuYWx5c2U9\n",
       "MHgzOjB4MTEzIG1lPWhleCBzdWJtZT03IHBzeT0xIHBzeV9yZD0xLjAwOjAuMDAgbWl4ZWRfcmVm\n",
       "PTEgbWVfcmFuZ2U9MTYgY2hyb21hX21lPTEgdHJlbGxpcz0xIDh4OGRjdD0xIGNxbT0wIGRlYWR6\n",
       "b25lPTIxLDExIGZhc3RfcHNraXA9MSBjaHJvbWFfcXBfb2Zmc2V0PS0yIHRocmVhZHM9OSBsb29r\n",
       "YWhlYWRfdGhyZWFkcz0xIHNsaWNlZF90aHJlYWRzPTAgbnI9MCBkZWNpbWF0ZT0xIGludGVybGFj\n",
       "ZWQ9MCBibHVyYXlfY29tcGF0PTAgY29uc3RyYWluZWRfaW50cmE9MCBiZnJhbWVzPTMgYl9weXJh\n",
       "bWlkPTIgYl9hZGFwdD0xIGJfYmlhcz0wIGRpcmVjdD0xIHdlaWdodGI9MSBvcGVuX2dvcD0wIHdl\n",
       "aWdodHA9MiBrZXlpbnQ9MjUwIGtleWludF9taW49MjAgc2NlbmVjdXQ9NDAgaW50cmFfcmVmcmVz\n",
       "aD0wIHJjX2xvb2thaGVhZD00MCByYz1jcmYgbWJ0cmVlPTEgY3JmPTIzLjAgcWNvbXA9MC42MCBx\n",
       "cG1pbj0wIHFwbWF4PTY5IHFwc3RlcD00IGlwX3JhdGlvPTEuNDAgYXE9MToxLjAwAIAAAAzYZYiE\n",
       "AD///vdonwKbWkN6gOSVxSXbT4H/q2dwfI/pAwAAAwAArq0zP6GOH2IA2vwLZn1HVd0mRFJvEH7p\n",
       "VZ1JCArzsU7cpuEZe0xcarP3Ew5mhSSv5G2pcZJxRB3qATWImgSLxbDEfrk+Ynxhje7wUGFuwr79\n",
       "cNzSnTJ1f+nrNnLyhfG3FcP5bWD9U9Cynu0goXxfgeEH3z+ddFtJbZeRkkhuLfYKWa6X7X+vmY00\n",
       "3E+d2YJY8h2zd0S57Tc09LvCo2B0Jvfy0WR7DxOJGbCLbw9cUeazugRXJy/8f8ATn09DQfsNKfns\n",
       "wPQkkSPm3k/W+me5wuGfGIQLv9y0xatIQxg9aNhNDmrwIkOuwXANjKoFOSdlrbLTyJ9A64UtkbWh\n",
       "V1rcD7n534AQnIo9gEG6uTbE6STeQUPKwxHn53I9CErJTNueDVXc8ZXPcqin19mUfwX4OhDn6WVm\n",
       "Kp5aJe4vt0JjIfwuMKeIstgxc6yfubBPPJz14Jzb7JYLn9VDF+R2wuikw6SDYYUEbb5anYrC5n/F\n",
       "oLKs4n1uEQtkPidW3gnZ+kYAdqCdYfoCCSdyik9KRN5BttRfOPnCSo8oXx/gEFW/Cde+5UX064GK\n",
       "/q42KJvLDUHcTQ6dNCuxi8Ff50r99d/49e68Zfn1ZUfKuQtEdaWVFHsvJJvofQU/dqC76N9Y1R9a\n",
       "3FkVJbCVquwZlq/v50/DaccWslcqJQI4XoJ5VjTX8ROSjUGtNy3jzK2gUlaZNdpUNpa00ZiIgANs\n",
       "1dDTczlygc4LC+Q21/VH3j1SOmGc9W6SzZpUf1EV4iqs0UMD50PEG4vNAkT8VQf+KAcAbKlXs/Ps\n",
       "TCxnEIoIG8swICU7hoiB/nMS7lxq6Ulr/XEunwYH6CPAFq3Lj+6mLfs7dYTx9I+UOwT8A3lENh4a\n",
       "YyMXlWOyYD/9lZKGVoLZg0WbmsgcFisQ6UK0UNuSQZCG2UNqb6/MAwBjMsHY9DWk6OnX3a25/hsi\n",
       "l8qLmM2DxIJdPMDtuOkw8YnndB1rGA9pfhpmH99SWwKOiF3WTEqdkSlA5oQx/86J3q8Zx/gLSF73\n",
       "8Gkb9MEOsWM+Xqf/0ihcRZ1N9rbBoMIK5GBlnKORH6g6FaVDtK0i50ua9LkY9r3OQ6HWhPUcenpp\n",
       "AA2kmnVCAcgBxCwN4pLK4fmE/p8SFprafQi5FVspGWKdH5Wv2Udcq6iLJkD4hPhW+gZYFUBVei/7\n",
       "DizS887J1/AjwvitWgPJa3oKtQGehuUCjb/CJCDFYQR0FpAM7ZufWKQuRXsTn33Ea+H5TDjCIHmp\n",
       "VRUlTgsddJaysCpFxrBTN1RehSMJft0FPl/HkzIB/yB2dtBmzWpI89jkvCWILahE1CL8SJ5CEqQY\n",
       "frsHRSX8UoGOFgTarbr9kHgCAbaL2QNQrLOQbZY1aO1wvEsrzMRpCvKIataLIxcQpjlcZpVO7UK5\n",
       "4nQGs5V8rVwee3+mz23aNputUMpQ+Y+DL62HstIN2H3JiHi5ChEninshaFSEG+n4thU1KwQG3d0S\n",
       "RqDwNs6O7gkkfGq00slJFrcutuXVcygpLEUtXaKzrZT+MH9H5+GR+bF6FDJ+6aMDRSfLBPiRJKB6\n",
       "IpTDjRJX4467ecCQ9f3Ixh11gj+fecbHjtSJQ6xxVyaKrvfaqcT6DTki4YeWsk/pMmp1RixyLUvl\n",
       "YtWqAYHaDagvev//QE86xtfZgxkeNEXtQtJ+7eRKF0JYDzVhrfXYGo/CGwPeB7bfmbeOo6fRD0AY\n",
       "6bVZfGdzA0t1Oz5iBDkmWv8hDdUCBTn1d5Sf3tzitH9V8i2bYEb7QssK2ETgAF4EVlopjqRvyUVM\n",
       "CsT1aA8QEXL6vEkdSETnBGMggMk1KT9ZsC+t34MnN89spz7NHfG8VG9bJNEgxy6xohGZ6hMN5gJj\n",
       "cxG35NdkjqsDCzYltWlN9djflzvVhiCJHq3sRQlQ0n8WPz2SIHCzGjifv1fAd9Pr5vbXJP68n7+O\n",
       "3vVZqIHev2wP7HGyVX+G19Q0BrOu58Git+7stZpF2zPtMKFlJnaqLQCCpmgd5V8u0UU+PmX65jHN\n",
       "tufbkRY/0EfX1ygIZKsCI4SKFQwqRLarvLglkNnZlN8sALSiXlrZv0Yj9kud6kdB8q1bzdvx4rpJ\n",
       "oBCOmttrZaZae2bPsfmJ5KW66BkoZfgr1VJReB+30bTmeQwkTZ42jkvXyZ/cHVDiDmEI2az8ZiA6\n",
       "/zZyOZrx3HR2W1jR5WnfBGEQ2gICd4Q1ln3ZELFVIfJMc6ooLBZLD6BDqPzAAb+asFiTtKi+1sFv\n",
       "XYSDJw3Uz4/GcqEAKo/mACgB2vNr026hnrb84/QAcVOook35puhi5VVNJ9WiS/ixxoeZim3vMO9A\n",
       "gDlf/I4ReRDDZNkTRA7/CkPfT81UJoq+yzPpJx8cCLzkzPSBD0gDe5mLL2Jbq/Or6MVJNOnPZDE5\n",
       "Guva74WnhTf63U93eORbMXtppIl+1NMb2bpZIwGbbStf1eCIguhd7dntLBSfKvI3Xibn+Uj62XWI\n",
       "LOCYhTydl8YEymtrGGTlbWa9csU00e8p/sNLUGeaxR8eLYniqYI0uCETKxZy/92jrOGwUaq+bC52\n",
       "3Qy8oi8hAxe3cpnjwalktt1RLiipavoYoKkegAREhxqln7/xa53LTqdCrrjartLkR4ISOGcDyLke\n",
       "kjJQSlTSxjtsoVOvk3dh93L70rX6OQhgG2PEqEZCk3WvaVlE7gnlgrVWwz5VZluZtxy5latiPBIf\n",
       "KILGWRZWk5YwbY06R2qoRfklI+exdntEgZuXz7cJ5AR2u4TnA/r7Nu6H4nT38K1v0CfGLGKdLya4\n",
       "q+mLdq06LHo2SUnXVq5H8N+VbODjUZVP4EYEN4VAvgVfEnF1WpuzQcdm9j0VyilyvitttZVStaNV\n",
       "d+5jhiOs6couukKIP/IGLeHUda9tJJs5TR8h9rmVINP1FEbwUCf8tVjMWE7zx0Tx410lZzyZxU3P\n",
       "DJeD2IphKMQC9GzQ8M7cdpcT5tsuD7h2vyRzkoKgGfXvIUtVXKcvDWNUvTGshgLHIX0SdEyS/2YL\n",
       "axSi1WJP60HQ0y5F1qFXrowqP0smSQCkAGDObqUsYHLPGDQZO5gDbkn8COTnAaVJ+LN1kw1I/p/e\n",
       "+t1qyt1qmxo95MkM97kjIhF/uMku9FZ53Bqe3HCo/rrC0WtmauH0OFuU70JwrjKISkcZijR+Kopx\n",
       "5Ib2v6sieOgf/WWPS3UD/OQvlYw8xf8Dw21ezgGIxEbIeWRXF/fXhwbKQHyImGCKTUUhOkOEeY6d\n",
       "MEMhFNi0deqsJ8TgUNBG7clbarELAxcrqU6/apDxv1P5Ir1JaLE1aqXimtKT3LBF4t9nyuM5ckVN\n",
       "gUKTEjnhwNttL3RBTy+Lyd/w8GQfYxtkhQ/qWe/SqpBsrQRTAGWA3b+6X2esnMAqzTRXg611nfVk\n",
       "W+ht1BUXO+3Yjmf6iL+2asgwOHjYnkZ9hcwHJc/sVC2b9CGZIwrymo7N6m/VjWLLMaRqSlXUCeyD\n",
       "BEikMsyXKrolJxglHs7E7KPyGdVJhdKUh0WPoa99KAYlB/+uc2AohxR+7s3LmFKdPLVahZXrWeTl\n",
       "Qh0UArMaAjao5JqGxLPgn3UTOfBjnMgoG+NJ9SbqzVXDp+aN4bCFgSUFS0zg2/aNDq17cs7rzNVF\n",
       "wo+SMudxql11XNGtqV11oP0+bQf7kg4vyF0kx5hPgDXXQFuG2ZqqpV5pbIjlMHvNaYOWYSZze+zR\n",
       "gsKqqhjtTR1X/lmFcNKOw4LhH7Azism0YBYuE+tREJ0d32VC+qe7gCS/EPHJwPwZFP9LLiPOS2KI\n",
       "IrULe7aLKEu7PcAicAvG712kXcf0aOx2tssxDFyA3hQmZi1l30uMF7s2SJXXrhyEFWJfv4/6XXF6\n",
       "4b7rjVEwynTwM0odCxzzo5dvqzDiOkGWlq7Bb2Rn74Mc8yFL+XE/vepTq/bexJ9PtfFOWVq+m0Xw\n",
       "O+6FyFQng7bLZqT3Fq2yaKlNjZAjSZK1m7m1etC+UV7FSuIJbTJTlfyoj84U5Iwwwc+DQvwrnybF\n",
       "Bx0wqz/6ypM6W0W1L35Ql+QfBCXy3CAli7aVGABKrd4S6IUHNaegVD/zgzhYtXUhbk0Z5JRIgzYg\n",
       "FDGVSD+0rFXz8X4HADyjfC3B2dOH1Bs0zaontvjKrXx+3SmjhGf9YTKpfDyep6QhbXo+TaDfTJls\n",
       "XHGjdoghjoIfhpwm/wT82zy9gGdrXqtKStWmx5cHU4YkvofVFyCOPvMcpfyrHMCj+ZDmhY88C4/E\n",
       "FETc5teZQYmvTHYwp7c1qYVWPyUdlYcYO7ZM9ZwNNAbLWsBDli4lubTlNLMNk7McjE62BdfWeoqm\n",
       "kE0lAqcdWlQe8HTKMOYjUhCA/8E6JVu6wAkO1bHvXJN3QAHRAAACM0GaJGxD//6plhMCmfAF/ux2\n",
       "uCLBMwBkvNMg5vJrGQ1O8Glt2Iad9ZZq+NEcIlipcgcd28B038Goe5+nfdkr9wUkQhHI1cAy+YY3\n",
       "SbnFX401AP+vPdBQob3LPo2vWi/FOTwyAVQGy2ZSMy4CB5MfS+ZexgrYX383BC+Mf6EbhSe1ebzR\n",
       "4hfiRA0VC6RmNeafW4nmZm3FCuCu/tG5+ViVmdVSfTlnhrQWsEabiBG/ps/2fKNB4KZX6CuPAPSC\n",
       "anXMCSWQzJb0eZrt3aLbvu01ipqFNtQVYfJgFfdw21az7lgYIXY1+TbTTIRrCS2u26j/zmyhIvMx\n",
       "WchZshxQMAr8ksrO7D3sPs31Yi2jEW7tDYSj+Li3DRNuS/nh0hwV+XK0hPXhRhtsuBwK5ukwcDi9\n",
       "IgL1RPfhS+LvNaiOLi427Eb0zs3+VtY3fDBA/YJx02tt1lNvDDjBJ6r3yPQYv1Q02oU6jOM9Ewub\n",
       "9R/X9/DC+9STslWyL9JDjyq1+vCZnvWh0T004taC2jG8Dli+0RndReV76354HDrsCQx79GWKEYjR\n",
       "Yzs/JwWWPYe98+dZqjlTLGReNvVMCNDbFmZgwxSusYRIii4EmysfD3Vyc5DDXJNU4DOmBkHmO68f\n",
       "Weu50QiaB2zX4Y36Z1yTP/tzRzTpnLaDusxmFgrvLsLkQRsIO8dwEhGKtwRiF38te80LWCJY1vCx\n",
       "m3tqIVzsUc6vQt8ad6JqFtSMrUe6dw1Z3ojmv+880oG/AAAA4EGeQniGfwIV4scoSz1BqWgAbURL\n",
       "/YCljdxlmxMPgW/56e6zo0F5ReiydZtMbOpyDWAYuz/YHtHJXEpiNN7rbiJmN/OO9HR+K3tfBjYY\n",
       "ZvNDXlnf8jk0iU8tOidDIMD+HaSNbfNVR8NQzlTXfYd9XxdR5DcBqfJ3XDm9qiS8HG7kuqgMBSB8\n",
       "6VtjQ0tSLOi8x9pc9RrIQNXfYVQNNcYLOlwYizweWBBpGEOOoGhH5EiI/2l0AV44dBWh9+9O7AGx\n",
       "PrIwEWPCsFEcrIJDZ8J2+cZdxmWgiivyfJgrpTug6xFdAAAAvwGeYXRCvwOZoROpJjCP+cXgmV1m\n",
       "UwAljhRrZM65WzioYXHjRkbRB5iR4F+cNusUU9aWT0q6FCVEnT0PwnM+8tON8BiKNzZPAXo0h9MA\n",
       "vYAlxnKQw3qhPwplc7ggzbndqeoTDBwx7F72T8B/RJVMtCtMyoErbmwmU7paEJkoktgfszu2vBVh\n",
       "zp/BUe8qoqghAAADAbSBDUmbC4ilDyL799SjOkcCQIq4yw1YSG1neaRX6IA0EOOh1kLH1csM1gXM\n",
       "AAAA8AGeY2pCvwB5mS5CF+lcQeZlOoAF1GlMKKYnBETUdlkZZA1zwLiGspSeuYlczqDFJDhLFMzv\n",
       "ImP/ArmxjjFrkLoLDTadQW6DtDnYCT3jl3Xdk3YlFcHCzgQJDJhQbiXuB4ogNVmbiGmRgZXn0BF6\n",
       "DFWRTGNB2lNpnnxBiNxiwwJEA5S7ydjxpeGSo9LETBIa2Sa8q+bN0Ke9yBXx/A08WD8ARvDrWel5\n",
       "GPyu6Xv8xgV0CvpAQMhOcYPpysr8X3OJqnfJ+9d8e8iYtDT4FpEUoeRffvqUZ0YDeimLlvYyMtnt\n",
       "f/3hoWvoIcdDol/rw8LfNQAAAP1BmmhJqEFomUwIf//+qZYATCfm0kuADjfHr1jbzZtvjuLuOdNB\n",
       "V3NixrPNRzKIpzTnkLQP07ypZZWOGv+icWG9EQytnLzdiB6h9pKctok6h87TMy1VlIAKf2H/Q7N4\n",
       "dlRWAGN0eF1hb/gTaIHYKyibA2lEI+f0Ls5VKle3kQg7XEB6RX8FhN7uxXvUtw5veDSY1nAXBCQB\n",
       "k0YkhGx1RleWnklKRdp7gqAGbw94EaMcUIatHBbsAVeEHDbRqGoCVWDUN0SFrWm9HYiPEiLeNN4s\n",
       "SwfhnUR7W8RYvwB5q9xXvDDB3swH03b0aQ/pOFuNQMUH9q6xPw94lhDOkCqJAAAA9kGehkURLDP/\n",
       "AEFq6PkARI08LqNcruHDfcAUH+yBFA6OpabseMzxezPjoZrqLsL6bL0VedQyLnNU+wePMp/GGDdT\n",
       "HtaHBfH/0I6f2jkKrh1OJaz0o2XHh5Kxnl1vcdQE21gfjJwyLuwcaZtfFqy7GcCiigbcMoc1pPEZ\n",
       "UH5P/kR0kkS/6ZRuiafCKhzZSqNIhAV2B8iGAtQOPTDt+fL/9syJGD9TM+dxY1N60VI0jxHKRfPB\n",
       "dgvFhcKyDh8pXka3Yn64AB3UvfrKczvT+9u+gESQcA+Bb5oK0QxG5IaKoZx/ec4RGujK+Qs6EUWF\n",
       "9aqn2s+t4MFcsQAAAMQBnqV0Qr8AeXUxRKuhLOAE0VLDGKkfuMxm/1Hcm+9163V8/eAlwG+28gw/\n",
       "qiD37cNusN/TnJFump0QSA/YJosWKDryagbInZ8CAXC6rP/obz9z6oRykHmU8cGm5AZCQl0KWDrO\n",
       "lredG0RfKf3sbcbDqmeBk5fkYNxVYh5l1HJg13ZZr93XQbHxjY5Rhw5opv0V5KxQz9Czn7QbAtEl\n",
       "eaRFKHkX376lGdGFtxzC2JOb0Qas0iv0QBoIcdDoULYAECb1WG0PAAAAwAGep2pCvwB5aKwRcWot\n",
       "o9zgAPvwdvrClEbAaHpJPtKJhX7nSMezipe+Xl1Z/aL7vPEenD12pJsGtNc4YyL5LphErHzQWpnF\n",
       "L1oWDdDQZWouKuDBbf+yCWIVaklwJe/z5OS1YC9Q5tG0OvFfJcz77jwEzXCdawKgxckcIicqAdLI\n",
       "u6GXW8detF83XMk240Mtr4g9pq0sDMZMVql9sUc6amAAu+pRnSli/RBMj7SIWVllwu7hx0N2c8rf\n",
       "lp6ceDyK2AAAAOdBmqxJqEFsmUwIf//+qZYATAxYCx8AH70T923VtWBepnJ3ohIlir0nAq7coioh\n",
       "HaQCR7lsfJoqyZyvSFXHpJ8gI7Ybf22DI2k5DLCVBk8eKnP9N+FHM0i29sccPfGqtBvWyytF12+f\n",
       "8dKUz7IkZKt5Jg2le5p0ecg8MxeGR7gNRb/1SK6abyV/TB7+RmbJA1DZxzzqsuxubGgrJC7QMPa+\n",
       "Ltg9uho72t52XbNp/5EbwLd9B7bmrPUwou6zTh+B2F4rZ/6HkKFwRDUNdKfeXlXpRo10UtOdZpk0\n",
       "4ffYfdwZil5Ek5vvHegAAACvQZ7KRRUsM/8AQT0J9iLHEGWHThtFIANi3piJYXyf5J5B7ANH1TNr\n",
       "YSnxSu7/IaQnsUsNN9rH6BvAE9koCkWyOV8HBIXag/SZFuKU6UY901/Z+F62/fvlaev4i1R5Wfpb\n",
       "ej2m8S6h5d0CEmcdKYitX4Yb+l/yffkopOedZ+5qnvLg2+Zz5OoMPCGMzlm6KfGDJBKP8fL6wi9v\n",
       "wjuk2iLGgYvsm1LLJffrZXBMnJFiwQAAAMEBnul0Qr8AeXMDzwAJV7b+Gk5KvcVeZWFUrOTv9uEn\n",
       "U7drPq9kXkj/lueyb1BcHs3RfoglU/L80fw5dFANw4XjqS/jsfGKfAmDm4CZogW0nNsmvXwSIQOL\n",
       "1cMAPCQ2j1HfQY3NKlzk0MN4JO4sTTYeNM+wEEbL083z49dhFmyObY5eP6Hleo2acypbjB4Cgxhh\n",
       "ZTkwzYiKvXfbKcTzglhHTFzoQc7rijnTUwAAjHpS6pdQHJqHrjJOmxPlz30GU5nvAAAAvwGe62pC\n",
       "vwB5PgjrQcnXaJ8zK353UAH8J65rYYSSfFcYbHVAWUDTIsoxakaY/7LPjZQnAM9yxA5DNPtmmmhT\n",
       "AtmVBc8PqvRaF3FZYPMtPF9qVMpUu2dIHOPKaYXR+XFp1QnHdEaH+Zijic86Sc9nmLWciemgEqYS\n",
       "90QzeUC7stQd5lBb7ieHzUSDeLmxuW4hCtflowOCI2M2GXfjeHcta/iu2VS8Ewzy+46OdNTAAXfU\n",
       "ozowgzR8kbCGlX32auI2AAAAu0Ga8EmoQWyZTAh3//6plgBOCgwaKAFehUBb2F19+ESWNHwbqefG\n",
       "hiQP0jrAM59zcntF5mJ072T6uUoHU9yKSzuhWWpsa+PpGCoYxfQKEUWLMHDT390trX7hNoX4iF8f\n",
       "uuTIFBvS4lv94lh2Rt3aFdZN4XqmGaqleF0If1bP7ZpyayIH/3p3U3817YoB1Qj+5nhPtGisswuc\n",
       "2U6eV9/4Z+TknMsvcp30C8OBQdNPfpDFcxAAkwFO91E7IZUAAACpQZ8ORRUsM/8AQ24iAtMUr/Fd\n",
       "rQAhQ/kWti3Ydy0EEeK67odDNkrjIeGcAZhvviirJlZozpuYerNjkDVrII9yBB4P5iFJRB0XgK7B\n",
       "4Zpnztllc1ap/csAyflCoLyUzlA99xjzSxij7aXmsTr8ZzAA5Gkb2NRHhDC5peiH0frX+9BOeqQa\n",
       "PeSvMV/ee+Kism7S6AK5pngFvKuNyLlD9QIQN7JbOPpwvPQloQAAALMBny10Qr8AeXMCWfwqZ+iz\n",
       "oanIATSRdcKModrlx6uE8RWsH4CHwTDxNtfBUT6heCcaAEp4a4t1+gpMxa8EvpNY78c/baw0sPop\n",
       "kQsYbhKchCXUwceyU16AxJwOuEop2cfdemknjAdL+qSYeREC0f9zpUoHTLkY1XbA1f6qO05P15qf\n",
       "KeauSZtnbcUhDPOoaDARvSyevQDvjKLUSAxRzpqYAC76lGdGL3WtW7vxfJ8w4udO6QAAAMkBny9q\n",
       "Qr8AfFURMtrldakV+gqVQAmE33SiTOyURokgqN+qcHZ2mZzI9rm8BvIHVS4/qQ0NOcIuIcG4NFeN\n",
       "vQ3Sk23/OQg6H8VWUNYlfoIB50dGimyeu5x79opalcWoxv7TAMEc/movDvhAxFzWieKtjqIpq5XR\n",
       "ANK2PzZqr6JGbZ6xvY5Yu0qJSNgvTxslTNAX2leqXzrncXeEzkFncrhJiDZ6rUz5XytW5thOJzQu\n",
       "IpQ8i+/fUozpSqB7gVNoP3Jp+luHD7NboKAAAACmQZs0SahBbJlMCHf//qmWAE4KDyAfiiYIKWYF\n",
       "ShAk9P0EQwi9OPCQ1TdumJPQ3mdnDhRO8asl0ihEltuXSGZ7BZUueX4fNLzDhanWllsdeLUCiw0v\n",
       "t1QOiUe8UaZqXdI/ApFFd+xnBnQ9Nb8pPopqanMsYzu8tMZNJerSXDl6qjijngy09msKo/b1H39w\n",
       "Q41xzVgjh78jcEaWglrZvzOCxQyKS/0OYAAAAKlBn1JFFSwz/wBDdTiNjSr1AYWErIAHZQ1ehwEn\n",
       "j1WuLaCPyJpMQhLArRVVCMxwkNxdCSdvaWRNzEM68njbAe7HiECvKIVIdu5RzEuXkFqV+0Y1H7XU\n",
       "2ynvitbouRKtD2XK1I3oVq8PFMyIbSN3Qil3PVHGr5J1klieeNyk7Iw+HhZIt+P2LZaRqfsNpjHW\n",
       "/G9/jdAFeOHQVoffvTjDcXicVFZg4gmh0YDFAAAAtAGfcXRCvwB8MxdvAA40z2iLFPB0wsejXv1X\n",
       "zWTnbFBzHBWd9PI2H1l6sWK2pcqVUceFt+Kk87BRUDQSqi58+qSct5C1cMKM/y93QumT9RQbEj91\n",
       "QzaikKA8NaicyAriKLFledxIi1NsJvDGPi/rCGugwLpLLQp9zb5RMJs7w6GkAsl5ioHMsYC6tcsQ\n",
       "drv+P7VuGkjiDnNjeZgnxfX4o501MABd9SjOjI7erAkgnnxhYIJk4AAAALwBn3NqQr8AfFURS1gz\n",
       "u0TlzvetAAnELGKDJJKFvaJL3j3IqJtNS+V4ER3TftgrzOyRWRi5mrf/JNCKCthq0/FORE1x0ypB\n",
       "CsE23V1bLLLIDsQzrQIvosIDLoGV25nmdMUJj3GfGf3iMoym/l6/LG1TNYyJdLdjEqA2j1kJmV70\n",
       "NV4Cg85QXKm5GbGynKMUe/mO68bafkKulouSO0l102eKE+YQ4bAzSIpQ8i+/fUozoxrG1ILRTBGs\n",
       "KiOBgAAAALRBm3hJqEFsmUwId//+qZYAUDR9J1ACwnCre3eF+iq4bOXTGUJ565qYuxtado360LXn\n",
       "itKplaFabQrd0kfjVfouNK11lx3oN1YGH+SCTTpIbQNHlolLLuC6aWUmzuUwRCgus9QDRvNKUyqo\n",
       "16DU+CbHIb1/TcL83h8RdViaDi5EyTNmShR9q/d0xtXk9PC48P6ExbwSPCkxRflB/sX7gjHjIxcC\n",
       "kZ/al2bZGL9XR9ulxWfE9qEAAAC+QZ+WRRUsM/8ARW4iAqyasxaAFuikPEU4reUz+64iUsngwdfe\n",
       "6z++AOmMKzsSN6UwkVjBRy6v5i8e/7bKKDdxFWV1e1jyOMSD3P57U2tvA2skcDbpHxIoqBwAkXNi\n",
       "SAOooeZ8Silv4IhiRuYUg6wqN4b3FML7E8UXsCgjeA0ztU0NhfNWz1jIKl7g/NGrPMGcYDRLgQuj\n",
       "0MOqxLw5XiSdzQnSTaa/xugCvHDoK0Pv3pbSGqBRCPS3PACJnAKJgAAAALwBn7V0Qr8AfDME2xAC\n",
       "3LPlaGgkWkMfBhg7OUa2QPad2VCaFk9DmlYr9D49wU9YzsdUz6WGFFUx7AUQCY9Ef2CVY7rfeeOa\n",
       "ejvkf85gLPXeZ7pJ2n3hr0JhKE71pLonQ4NlXHpZ8Rop73pW7gT2VqXIUTGHm+58JAkZR8z4GED/\n",
       "BkCuiWCZGn19EV4v5WL2K8Pt3wEMi8U5NL1byhAn9eFq9PRBxPitijnTUwAF31KM6NTiFQV8qqeR\n",
       "YfkmYQAAAMABn7dqQr8AfxkWLxFP4w06ifbjkgZ4ALqGt3+Rx1pPzCzlvYNjBL7uGJSqC8BwaZa6\n",
       "zsX5cWK3CMXTtMbtLfEuOmQiv1ZJJO0v5ebKnp4v4aNSjEi/H42XHZVXu0T5n3Oe2r6srf58BeVO\n",
       "Uja4NodCUEesFG18QX+2V9wJdrXca9U4OshYGinCq3bTT/TnIquXo++UWKIsPgLdsjMjHjQ8lHM8\n",
       "jOK1huloYo501MABd9SjOjFsPRhE+0rCoYZiQDEAAACLQZu8SahBbJlMCGf//p4QAmof/U5dYfnP\n",
       "jM2AA6a8Kd4cfeRNzT0MvlgabB4E8R82f4HHWeqWf28bGsW4s5eAeY+K6WHvaLBmbg0IOftjVM4y\n",
       "bK56oAd/+DkX/euVBx1FXrdn4e5oj3eigbZJVvunET2+S9I06hEvaXQBXNM8At5VxuTLyzBJDF8b\n",
       "oAAAAKFBn9pFFSwz/wBFcKOWQ/q4z1gAQhUDdaCE1p7+TY3Wz12Gf4Yg/neTk11IdSAU7eVUL5y1\n",
       "iVwe0bAw9PXtXLOmmITlFRYab4qb/BbqupO02Km8cs6A0hm/BOAlYZ/rA+7Ge3pbfIL2YGUxedvK\n",
       "K1hlzSc4n7Evu3cbXoZp1zBJyIgwzPxMP/cvefjdAFc0zwC3lXG5EX3YzSEEaWSPmePtgQAAALMB\n",
       "n/l0Qr8AfxlRebjd8fMeBqoNgAfgrfwPJYbhdLBjEq76GYl0S2xYzHotqbuNEKO144U/LrchdHqn\n",
       "kQIqBUReIscJGeoQjG5iOgPlpt0L5ejPsgisNBsAyHY8O7uFopnuCh143XmKcQjtH9C3kYh6dHFF\n",
       "z2fOZMiSAA34BVRKzVcjgf7WjiF36MJgNdKfNPRMreNJ9g57uHUUNsSrNI8Uc6amAAu+pRnRjzYr\n",
       "1YnWvMo40gAAAMoBn/tqQr8AftzhDLADARgTUCAAnBBGQDgWzxNCYNuXOZJA5gYCg9NTUV/budxq\n",
       "wf9IOAO+ncW2VHOqxGMVhJdJSkLhEnWBVbz6q9yEZSkjiuvXVXlkD1sAwdAfIaua9ohN/BHW2yiX\n",
       "L3XOTiLhNyJskOtXKMHY4sJTeRKM6HUtw2K170pIsOOY8SQ3LdgZApgKy8HqZK7W68s3Qz6ZZK/4\n",
       "MgjsK6tQgIRO1kDnzvbVd8Mie/yrx4o501MABd9SjOjCb2IWDQPZ3ztpAAAAp0Gb/UmoQWyZTAhX\n",
       "//44QAlpuSGNfgbHrfsdntwhdOAExAMMe9yiRM3xY5FOMmDLtYea2C1bikRVOe7AnlLYUhetLq0D\n",
       "fbj57hZRALGHw22FvaziydqAqI6BScMoBkX6wrZkfDKBQQCxIPIxvoQOuwIe++OTxAqM7qFPgF5U\n",
       "f2oOPQHo3W4Bb9qEewW1D/RHLz067wLiKUPIvv31KM6UPWnreVZk2dtxAAAElm1vb3YAAABsbXZo\n",
       "ZAAAAAAAAAAAAAAAAAAAA+gAAAXcAAEAAAEAAAAAAAAAAAAAAAABAAAAAAAAAAAAAAAAAAAAAQAA\n",
       "AAAAAAAAAAAAAAAAQAAAAAAAAAAAAAAAAAAAAAAAAAAAAAAAAAAAAAAAAAIAAAPAdHJhawAAAFx0\n",
       "a2hkAAAAAwAAAAAAAAAAAAAAAQAAAAAAAAXcAAAAAAAAAAAAAAAAAAAAAAABAAAAAAAAAAAAAAAA\n",
       "AAAAAQAAAAAAAAAAAAAAAAAAQAAAAAGwAAABIAAAAAAAJGVkdHMAAAAcZWxzdAAAAAAAAAABAAAF\n",
       "3AAABAAAAQAAAAADOG1kaWEAAAAgbWRoZAAAAAAAAAAAAAAAAAAAKAAAADwAVcQAAAAAAC1oZGxy\n",
       "AAAAAAAAAAB2aWRlAAAAAAAAAAAAAAAAVmlkZW9IYW5kbGVyAAAAAuNtaW5mAAAAFHZtaGQAAAAB\n",
       "AAAAAAAAAAAAAAAkZGluZgAAABxkcmVmAAAAAAAAAAEAAAAMdXJsIAAAAAEAAAKjc3RibAAAALNz\n",
       "dHNkAAAAAAAAAAEAAACjYXZjMQAAAAAAAAABAAAAAAAAAAAAAAAAAAAAAAGwASAASAAAAEgAAAAA\n",
       "AAAAAQAAAAAAAAAAAAAAAAAAAAAAAAAAAAAAAAAAAAAAAAAAABj//wAAADFhdmNDAWQAFf/hABhn\n",
       "ZAAVrNlBsJaEAAADAAQAAAMAoDxYtlgBAAZo6+PLIsAAAAAcdXVpZGtoQPJfJE/FujmlG88DI/MA\n",
       "AAAAAAAAGHN0dHMAAAAAAAAAAQAAAB4AAAIAAAAAFHN0c3MAAAAAAAAAAQAAAAEAAAEAY3R0cwAA\n",
       "AAAAAAAeAAAAAQAABAAAAAABAAAKAAAAAAEAAAQAAAAAAQAAAAAAAAABAAACAAAAAAEAAAoAAAAA\n",
       "AQAABAAAAAABAAAAAAAAAAEAAAIAAAAAAQAACgAAAAABAAAEAAAAAAEAAAAAAAAAAQAAAgAAAAAB\n",
       "AAAKAAAAAAEAAAQAAAAAAQAAAAAAAAABAAACAAAAAAEAAAoAAAAAAQAABAAAAAABAAAAAAAAAAEA\n",
       "AAIAAAAAAQAACgAAAAABAAAEAAAAAAEAAAAAAAAAAQAAAgAAAAABAAAKAAAAAAEAAAQAAAAAAQAA\n",
       "AAAAAAABAAACAAAAAAEAAAQAAAAAHHN0c2MAAAAAAAAAAQAAAAEAAAAeAAAAAQAAAIxzdHN6AAAA\n",
       "AAAAAAAAAAAeAAAPjgAAAjcAAADkAAAAwwAAAPQAAAEBAAAA+gAAAMgAAADEAAAA6wAAALMAAADF\n",
       "AAAAwwAAAL8AAACtAAAAtwAAAM0AAACqAAAArQAAALgAAADAAAAAuAAAAMIAAADAAAAAxAAAAI8A\n",
       "AAClAAAAtwAAAM4AAACrAAAAFHN0Y28AAAAAAAAAAQAAACwAAABidWR0YQAAAFptZXRhAAAAAAAA\n",
       "ACFoZGxyAAAAAAAAAABtZGlyYXBwbAAAAAAAAAAAAAAAAC1pbHN0AAAAJal0b28AAAAdZGF0YQAA\n",
       "AAEAAAAATGF2ZjU3LjUyLjEwMA==\n",
       "\">\n",
       "  Your browser does not support the video tag.\n",
       "</video>"
      ],
      "text/plain": [
       "<IPython.core.display.HTML object>"
      ]
     },
     "execution_count": 11,
     "metadata": {},
     "output_type": "execute_result"
    }
   ],
   "source": [
    "anim = animation.FuncAnimation(fig, animate, frames=rho_n, interval=50)\n",
    "HTML(anim.to_html5_video())"
   ]
  },
  {
   "cell_type": "code",
   "execution_count": null,
   "metadata": {
    "collapsed": true
   },
   "outputs": [],
   "source": []
  },
  {
   "cell_type": "code",
   "execution_count": null,
   "metadata": {
    "collapsed": true
   },
   "outputs": [],
   "source": []
  }
 ],
 "metadata": {
  "anaconda-cloud": {},
  "kernelspec": {
   "display_name": "Python [default]",
   "language": "python",
   "name": "python3"
  },
  "language_info": {
   "codemirror_mode": {
    "name": "ipython",
    "version": 3
   },
   "file_extension": ".py",
   "mimetype": "text/x-python",
   "name": "python",
   "nbconvert_exporter": "python",
   "pygments_lexer": "ipython3",
   "version": "3.5.2"
  }
 },
 "nbformat": 4,
 "nbformat_minor": 1
}
