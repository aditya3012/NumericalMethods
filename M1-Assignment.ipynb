{
 "cells": [
  {
   "cell_type": "code",
   "execution_count": 1,
   "metadata": {
    "collapsed": true
   },
   "outputs": [],
   "source": [
    "import math\n",
    "import numpy\n",
    "from matplotlib import pyplot\n",
    "%matplotlib inline\n",
    "from matplotlib import rcParams\n",
    "rcParams['font.family'] = 'serif'\n",
    "rcParams['font.size'] = 16"
   ]
  },
  {
   "cell_type": "code",
   "execution_count": 2,
   "metadata": {
    "collapsed": true
   },
   "outputs": [],
   "source": [
    "#Model parameteres\n",
    "ms = 50.\n",
    "g =9.81 #m/s2\n",
    "rho = 1.091 #kg/m^3\n",
    "r = 0.5 #m\n",
    "A = numpy.pi*r**2\n",
    "ue = 325. #m/s\n",
    "Cd = 0.15\n",
    "mp = 100. #kg\n",
    "mpdot = 20. #burn rate\n",
    "\n",
    "#Initial conditions\n",
    "h0 = 0. #initial height\n",
    "v0 =0.  #initial velocity\n"
   ]
  },
  {
   "cell_type": "code",
   "execution_count": 3,
   "metadata": {
    "collapsed": false
   },
   "outputs": [],
   "source": [
    "def f(u):\n",
    "    \"\"\"Returns the right-hand side of the phugoid system of equations.\n",
    "    \n",
    "    Parameters\n",
    "    ----------\n",
    "    u : array of float\n",
    "        array containing the solution at time n.\n",
    "        \n",
    "    Returns\n",
    "    -------\n",
    "    dudt : array of float\n",
    "        array containing the RHS given u.\n",
    "    \"\"\"\n",
    "    \n",
    "    h = u[0]\n",
    "    v = u[1]\n",
    "\n",
    "    return numpy.array([v,-g +(mpdot*ue)/(ms+mp) - \\\n",
    "                        (0.5*rho*v*abs(v)*A*Cd)/(ms +mp)])"
   ]
  },
  {
   "cell_type": "code",
   "execution_count": 4,
   "metadata": {
    "collapsed": true
   },
   "outputs": [],
   "source": [
    "def euler_step(u, f, dt):\n",
    "    \"\"\"Returns the solution at the next time-step using Euler's method.\n",
    "    \n",
    "    Parameters\n",
    "    ----------\n",
    "    u : array of float\n",
    "        solution at the previous time-step.\n",
    "    f : function\n",
    "        function to compute the right hand-side of the system of equations.\n",
    "    dt : float\n",
    "        time-increment.\n",
    "    \n",
    "    Returns\n",
    "    -------\n",
    "    u_n_plus_1 : array of float\n",
    "        approximate solution at the next time step.\n",
    "    \"\"\"\n",
    "    \n",
    "    return u + dt * f(u)"
   ]
  },
  {
   "cell_type": "markdown",
   "metadata": {},
   "source": [
    "We know that until 5 seconds the burn rate is 20kg/s. Starting from 5 seconds, it drops to 0."
   ]
  },
  {
   "cell_type": "code",
   "execution_count": 5,
   "metadata": {
    "collapsed": false
   },
   "outputs": [],
   "source": [
    "T = 40.   \n",
    "dt =0.1\n",
    "N = int(T/dt)+1  \n",
    "t = numpy.linspace(0.0,T,N) \n",
    "u = numpy.empty((N,2))\n",
    "u[0] = numpy.array([h0,v0])"
   ]
  },
  {
   "cell_type": "code",
   "execution_count": 6,
   "metadata": {
    "collapsed": true
   },
   "outputs": [],
   "source": [
    "mp =100.\n",
    "mpdot =20\n",
    "for n in range(N-1):\n",
    "    mp=mp-(mpdot*dt)\n",
    "    if (mp<=0):\n",
    "        mp = 0\n",
    "        mpdot =0\n",
    "    u[n+1]=euler_step(u[n], f, dt)"
   ]
  },
  {
   "cell_type": "code",
   "execution_count": 7,
   "metadata": {
    "collapsed": false,
    "scrolled": true
   },
   "outputs": [],
   "source": [
    "h= u[0:n,0]\n",
    "v= u[0:n,1]\n",
    "t= t[0:n]"
   ]
  },
  {
   "cell_type": "code",
   "execution_count": 8,
   "metadata": {
    "collapsed": false
   },
   "outputs": [
    {
     "name": "stdout",
     "output_type": "stream",
     "text": [
      "flightend = 36.7\n",
      "velocity at end of flight = -8.594975e+01\n"
     ]
    }
   ],
   "source": [
    "for n in range(N-1):\n",
    "    if (u[n+1,0])<0:\n",
    "        flightend = n*dt\n",
    "        print('flightend = %a' %flightend)\n",
    "        endvelocity = (u[n+1,1])\n",
    "        print('velocity at end of flight = %e' % endvelocity)\n",
    "        break"
   ]
  },
  {
   "cell_type": "code",
   "execution_count": 9,
   "metadata": {
    "collapsed": false
   },
   "outputs": [
    {
     "name": "stdout",
     "output_type": "stream",
     "text": [
      "maximum velcoity is= 230.720089\n",
      "Time when max velocity occurs 5 secs\n",
      "509.982213283\n"
     ]
    }
   ],
   "source": [
    "vmax =v.argmax()\n",
    "maxvel = (v[vmax])\n",
    "print('maximum velcoity is= %f' % maxvel)\n",
    "timeofmaxvel = ((vmax+1)*dt)\n",
    "print('Time when max velocity occurs %g secs' %timeofmaxvel)\n",
    "print(h[vmax])"
   ]
  },
  {
   "cell_type": "code",
   "execution_count": 10,
   "metadata": {
    "collapsed": false
   },
   "outputs": [
    {
     "name": "stdout",
     "output_type": "stream",
     "text": [
      "1316.62009418\n",
      "156\n",
      "15.7\n"
     ]
    },
    {
     "data": {
      "image/png": "[encoded data removed]",
      "text/plain": [
       "<matplotlib.figure.Figure at 0x7fc065dae2b0>"
      ]
     },
     "metadata": {},
     "output_type": "display_data"
    }
   ],
   "source": [
    "# visualization of the path\n",
    "pyplot.figure(figsize=(8,6))\n",
    "pyplot.grid(True)\n",
    "pyplot.xlabel(r'time', fontsize=18)\n",
    "pyplot.ylabel(r'Rocket attributes', fontsize=18)\n",
    "pyplot.xlim(0,T)\n",
    "#pyplot.ylim(0, 1500)\n",
    "pyplot.title('Height/Velocity vs Time, flight time = %.2f' % T, fontsize=18)\n",
    "pyplot.plot(t,h, 'k-', lw=2);\n",
    "pyplot.plot(t,v, 'g-', lw=2);\n",
    "pyplot.legend([\"Height\", \"Velocity\"])\n",
    "hmax = h.argmax()\n",
    "print(h[hmax])\n",
    "print(hmax)\n",
    "print((hmax+1)*dt)"
   ]
  },
  {
   "cell_type": "code",
   "execution_count": null,
   "metadata": {
    "collapsed": false
   },
   "outputs": [],
   "source": []
  },
  {
   "cell_type": "code",
   "execution_count": null,
   "metadata": {
    "collapsed": true
   },
   "outputs": [],
   "source": []
  },
  {
   "cell_type": "code",
   "execution_count": null,
   "metadata": {
    "collapsed": true
   },
   "outputs": [],
   "source": []
  }
 ],
 "metadata": {
  "anaconda-cloud": {},
  "kernelspec": {
   "display_name": "Python [default]",
   "language": "python",
   "name": "python3"
  },
  "language_info": {
   "codemirror_mode": {
    "name": "ipython",
    "version": 3
   },
   "file_extension": ".py",
   "mimetype": "text/x-python",
   "name": "python",
   "nbconvert_exporter": "python",
   "pygments_lexer": "ipython3",
   "version": "3.5.2"
  }
 },
 "nbformat": 4,
 "nbformat_minor": 1
}
