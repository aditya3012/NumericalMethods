{
 "cells": [
  {
   "cell_type": "code",
   "execution_count": 1,
   "metadata": {
    "collapsed": true
   },
   "outputs": [],
   "source": [
    "import numpy\n",
    "import sympy\n",
    "from matplotlib import pyplot\n",
    "%matplotlib inline"
   ]
  },
  {
   "cell_type": "code",
   "execution_count": 15,
   "metadata": {
    "collapsed": false
   },
   "outputs": [
    {
     "name": "stdout",
     "output_type": "stream",
     "text": [
      "-exp(-x)*sin(x)**4*cos(x)/(2*x**5) - exp(-x)*sin(x)**3*cos(x)**2/(4*x**5) + 3*exp(-x)*sin(x)**2*cos(x)**3/(4*x**5) - 5*exp(-x)*sin(x)**3*cos(x)**2/(4*x**6)\n",
      "-0.00026648912670920613\n"
     ]
    }
   ],
   "source": [
    "from sympy import init_printing\n",
    "init_printing()\n",
    "eqn, x = sympy.symbols('eqn x')\n",
    "eqn = ((sympy.cos(x))**2 * (sympy.sin(x))**3)/(4*x**5 *sympy.exp(x))\n",
    "eqn\n",
    "xprime = eqn.diff(x)\n",
    "xprime\n",
    "print(xprime)\n",
    "from sympy.utilities.lambdify import lambdify\n",
    "x_lamb = lambdify((x),xprime)\n",
    "answer = x_lamb(2.2)\n",
    "print(answer)"
   ]
  },
  {
   "cell_type": "code",
   "execution_count": null,
   "metadata": {
    "collapsed": false
   },
   "outputs": [],
   "source": []
  },
  {
   "cell_type": "code",
   "execution_count": 9,
   "metadata": {
    "collapsed": true
   },
   "outputs": [],
   "source": [
    "#variable\n",
    "vmax = 80 #km/hr\n",
    "rhomax = 250 #cars/km\n",
    "L = 11 #km\n",
    "nx = 51\n",
    "dt =0.001"
   ]
  },
  {
   "cell_type": "code",
   "execution_count": 20,
   "metadata": {
    "collapsed": false
   },
   "outputs": [
    {
     "name": "stdout",
     "output_type": "stream",
     "text": [
      "Minimum velcoity at time t=0 in meters per second is 17\n"
     ]
    }
   ],
   "source": [
    "#Initial conditions\n",
    "x = numpy.linspace(0,L,nx)\n",
    "rho0 = numpy.ones(nx)*10\n",
    "rho0[10:20] = 50\n",
    "\n",
    "v = (vmax*(1- rho0/rhomax))*(5/18)\n",
    "vmin = min(v)\n",
    "print('Minimum velcoity at time t=0 in meters per second is %d' % vmin)"
   ]
  },
  {
   "cell_type": "code",
   "execution_count": null,
   "metadata": {
    "collapsed": true
   },
   "outputs": [],
   "source": []
  }
 ],
 "metadata": {
  "anaconda-cloud": {},
  "kernelspec": {
   "display_name": "Python [default]",
   "language": "python",
   "name": "python3"
  },
  "language_info": {
   "codemirror_mode": {
    "name": "ipython",
    "version": 3
   },
   "file_extension": ".py",
   "mimetype": "text/x-python",
   "name": "python",
   "nbconvert_exporter": "python",
   "pygments_lexer": "ipython3",
   "version": "3.5.2"
  }
 },
 "nbformat": 4,
 "nbformat_minor": 1
}
