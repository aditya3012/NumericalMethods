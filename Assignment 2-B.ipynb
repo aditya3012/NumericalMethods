{
 "cells": [
  {
   "cell_type": "code",
   "execution_count": 1,
   "metadata": {
    "collapsed": true
   },
   "outputs": [],
   "source": [
    "import numpy\n",
    "import sympy\n",
    "from matplotlib import pyplot\n",
    "%matplotlib inline"
   ]
  },
  {
   "cell_type": "code",
   "execution_count": 2,
   "metadata": {
    "collapsed": true
   },
   "outputs": [],
   "source": [
    "#variable\n",
    "vmax = 136 #km/hr\n",
    "rhomax = 250 #cars/km\n",
    "L = 11 #km\n",
    "nx = 51\n",
    "nt=100\n",
    "dt =0.001\n",
    "dx = L/(nx-1)"
   ]
  },
  {
   "cell_type": "code",
   "execution_count": 3,
   "metadata": {
    "collapsed": false
   },
   "outputs": [
    {
     "name": "stdout",
     "output_type": "stream",
     "text": [
      "[ 125.12  125.12  125.12  125.12  125.12  125.12  125.12  125.12  125.12\n",
      "  125.12  108.8   108.8   108.8   108.8   108.8   108.8   108.8   108.8\n",
      "  108.8   108.8   125.12  125.12  125.12  125.12  125.12  125.12  125.12\n",
      "  125.12  125.12  125.12  125.12  125.12  125.12  125.12  125.12  125.12\n",
      "  125.12  125.12  125.12  125.12  125.12  125.12  125.12  125.12  125.12\n",
      "  125.12  125.12  125.12  125.12  125.12  125.12]\n",
      "Minimum velcoity at time t=0 in meters per second is 30.22\n"
     ]
    }
   ],
   "source": [
    "#Initial conditions\n",
    "x = numpy.linspace(0,L,nx)\n",
    "rho = numpy.ones(nx)*20\n",
    "rho[10:20] = 50\n",
    "\n",
    "v = (vmax*(1- rho/rhomax))\n",
    "print(v)\n",
    "vmin = min(v)*(5/18)\n",
    "print('Minimum velcoity at time t=0 in meters per second is %.2f' %vmin)"
   ]
  },
  {
   "cell_type": "code",
   "execution_count": 4,
   "metadata": {
    "collapsed": false
   },
   "outputs": [
    {
     "data": {
      "text/plain": [
       "(0, 60)"
      ]
     },
     "execution_count": 4,
     "metadata": {},
     "output_type": "execute_result"
    },
    {
     "data": {
      "image/png": "[encoded data removed]",
      "text/plain": [
       "<matplotlib.figure.Figure at 0x7ffa11888c18>"
      ]
     },
     "metadata": {},
     "output_type": "display_data"
    }
   ],
   "source": [
    "pyplot.plot(x,rho)\n",
    "pyplot.ylim(0,60)"
   ]
  },
  {
   "cell_type": "code",
   "execution_count": 5,
   "metadata": {
    "collapsed": false
   },
   "outputs": [
    {
     "name": "stdout",
     "output_type": "stream",
     "text": [
      "rho= [ 20.  20.  20.  20.  20.  20.  20.  20.  20.  20.  50.  50.  50.  50.  50.\n",
      "  50.  50.  50.  50.  50.  20.  20.  20.  20.  20.  20.  20.  20.  20.  20.\n",
      "  20.  20.  20.  20.  20.  20.  20.  20.  20.  20.  20.  20.  20.  20.  20.\n",
      "  20.  20.  20.  20.  20.  20.]\n"
     ]
    }
   ],
   "source": [
    "print('rho=',rho)\n",
    "Fprime = -16*rho/25 + 80;\n",
    "rhon = numpy.ones(nx)"
   ]
  },
  {
   "cell_type": "code",
   "execution_count": 6,
   "metadata": {
    "collapsed": false
   },
   "outputs": [],
   "source": [
    "for n in range(nt):\n",
    "    rhon = rho.copy()\n",
    "    F = vmax*rho*(1-(rho/rhomax));\n",
    "    rho[1:] = rhon[1:]-(dt/dx)*(F[1:]-F[0:-1])\n",
    "    rho[0]=20"
   ]
  },
  {
   "cell_type": "code",
   "execution_count": 7,
   "metadata": {
    "collapsed": false
   },
   "outputs": [
    {
     "data": {
      "text/plain": [
       "[<matplotlib.lines.Line2D at 0x7ffa0f797400>]"
      ]
     },
     "execution_count": 7,
     "metadata": {},
     "output_type": "execute_result"
    },
    {
     "data": {
      "image/png": "[encoded data removed]",
      "text/plain": [
       "<matplotlib.figure.Figure at 0x7ffa36867518>"
      ]
     },
     "metadata": {},
     "output_type": "display_data"
    }
   ],
   "source": [
    "pyplot.plot(x,rho)"
   ]
  },
  {
   "cell_type": "code",
   "execution_count": 8,
   "metadata": {
    "collapsed": true
   },
   "outputs": [],
   "source": [
    "meanrho = numpy.mean(rho)\n",
    "Vavg = (vmax*(1- meanrho/rhomax))"
   ]
  },
  {
   "cell_type": "code",
   "execution_count": 9,
   "metadata": {
    "collapsed": false
   },
   "outputs": [
    {
     "name": "stdout",
     "output_type": "stream",
     "text": [
      "33.8744962651\n"
     ]
    }
   ],
   "source": [
    "print((Vavg)*(5/18))"
   ]
  },
  {
   "cell_type": "code",
   "execution_count": 10,
   "metadata": {
    "collapsed": false
   },
   "outputs": [
    {
     "name": "stdout",
     "output_type": "stream",
     "text": [
      "30.988747028\n"
     ]
    }
   ],
   "source": [
    "V= (vmax*(1- rho/rhomax))\n",
    "vminat6 = min(V)\n",
    "print((vminat6)*(1000/3600))"
   ]
  },
  {
   "cell_type": "code",
   "execution_count": null,
   "metadata": {
    "collapsed": true
   },
   "outputs": [],
   "source": []
  }
 ],
 "metadata": {
  "kernelspec": {
   "display_name": "Python [default]",
   "language": "python",
   "name": "python3"
  },
  "language_info": {
   "codemirror_mode": {
    "name": "ipython",
    "version": 3
   },
   "file_extension": ".py",
   "mimetype": "text/x-python",
   "name": "python",
   "nbconvert_exporter": "python",
   "pygments_lexer": "ipython3",
   "version": "3.5.2"
  }
 },
 "nbformat": 4,
 "nbformat_minor": 1
}
