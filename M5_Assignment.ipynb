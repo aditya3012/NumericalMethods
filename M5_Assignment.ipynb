{
 "cells": [
  {
   "cell_type": "code",
   "execution_count": 1,
   "metadata": {
    "collapsed": true
   },
   "outputs": [],
   "source": [
    "import numpy\n",
    "from matplotlib import pyplot, cm\n",
    "from math import pi\n",
    "from mpl_toolkits.mplot3d import Axes3D\n",
    "%matplotlib inline\n",
    "from matplotlib import rcParams\n",
    "rcParams['font.family'] = 'serif'\n",
    "rcParams['font.size'] = 16"
   ]
  },
  {
   "cell_type": "code",
   "execution_count": 3,
   "metadata": {
    "collapsed": false
   },
   "outputs": [
    {
     "name": "stdout",
     "output_type": "stream",
     "text": [
      "dx = 0.025\n",
      "dy = 0.025\n"
     ]
    }
   ],
   "source": [
    "nx = 41\n",
    "ny = 41\n",
    "\n",
    "l = 1.\n",
    "h = 1.\n",
    "\n",
    "dx = l/(nx-1)\n",
    "dy = h/(ny-1)\n",
    "\n",
    "l1_target = 1e-6\n",
    "\n",
    "print('dx =',dx)\n",
    "print('dy =',dx)"
   ]
  },
  {
   "cell_type": "code",
   "execution_count": 4,
   "metadata": {
    "collapsed": true
   },
   "outputs": [],
   "source": [
    "def L1norm(new, old):\n",
    "    norm = numpy.sum(numpy.abs(new-old))\n",
    "    return norm"
   ]
  },
  {
   "cell_type": "code",
   "execution_count": 5,
   "metadata": {
    "collapsed": true
   },
   "outputs": [],
   "source": [
    "x = numpy.linspace(0,l,nx)\n",
    "y = numpy.linspace(0,1,ny)"
   ]
  },
  {
   "cell_type": "code",
   "execution_count": 10,
   "metadata": {
    "collapsed": false
   },
   "outputs": [],
   "source": [
    "omega = numpy.zeros((nx,ny))\n",
    "psi = omega.copy()"
   ]
  },
  {
   "cell_type": "markdown",
   "metadata": {},
   "source": [
    "We know that,\n",
    "\n",
    "$$ \\nabla^2 \\omega = 0 $$\n",
    "\n",
    "and using jacobian iteration, we get\n",
    "\n",
    "$$ p_{i,j} ^{k+1} = \\frac{1}{4} (p_{i,j-1} ^{k} +p_{i,j+1} ^{k} \\\n",
    "    +  p_{i-1,j} ^{k} + p_{i+1,j} ^{k}) $$"
   ]
  },
  {
   "cell_type": "code",
   "execution_count": 19,
   "metadata": {
    "collapsed": false
   },
   "outputs": [
    {
     "ename": "SyntaxError",
     "evalue": "invalid syntax (<ipython-input-19-950a9b1d1dc0>, line 9)",
     "output_type": "error",
     "traceback": [
      "\u001b[0;36m  File \u001b[0;32m\"<ipython-input-19-950a9b1d1dc0>\"\u001b[0;36m, line \u001b[0;32m9\u001b[0m\n\u001b[0;31m    while l1_norm > l1_target\u001b[0m\n\u001b[0m                             ^\u001b[0m\n\u001b[0;31mSyntaxError\u001b[0m\u001b[0;31m:\u001b[0m invalid syntax\n"
     ]
    }
   ],
   "source": [
    "def stokes(omega,psi,l1_target):\n",
    "    \n",
    "    l1_norm = 1\n",
    "    iterations = 0\n",
    "    \n",
    "    omegad = numpy.empty_like(omega)\n",
    "    psid = numpy.empty_like(psi)\n",
    "    \n",
    "    while l1_norm > l1_target\n",
    "    \n",
    "        omegad = omega.copy()\n",
    "        psid = psi.copy()\n",
    "    \n",
    "        omega[1:-1,1:-1] = (1/4) * (omegad[1:-1,2:] +omegad[1:-1,:-2] \\\n",
    "                                    + omegad[2:,1:-1] + omegad[:-2,1:-1]\n",
    "    \n",
    "    return"
   ]
  },
  {
   "cell_type": "code",
   "execution_count": null,
   "metadata": {
    "collapsed": true
   },
   "outputs": [],
   "source": []
  }
 ],
 "metadata": {
  "anaconda-cloud": {},
  "kernelspec": {
   "display_name": "Python [default]",
   "language": "python",
   "name": "python3"
  },
  "language_info": {
   "codemirror_mode": {
    "name": "ipython",
    "version": 3
   },
   "file_extension": ".py",
   "mimetype": "text/x-python",
   "name": "python",
   "nbconvert_exporter": "python",
   "pygments_lexer": "ipython3",
   "version": "3.5.2"
  }
 },
 "nbformat": 4,
 "nbformat_minor": 1
}
